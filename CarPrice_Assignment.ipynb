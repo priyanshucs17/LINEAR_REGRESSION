{
 "cells": [
  {
   "cell_type": "markdown",
   "metadata": {},
   "source": [
    "## CarPrice Prediction"
   ]
  },
  {
   "cell_type": "markdown",
   "metadata": {},
   "source": [
    "#### Statement\n",
    "- A Chinese automobile company Geely Auto aspires to enter the US market by setting up their manufacturing unit there\n",
    "  and producing cars locally to give competition to their US and European counterparts.\n",
    "\n",
    "- They have contracted an automobile consulting company to understand the factors on which the pricing of cars depends. \n",
    "  Specifically, they want to understand the factors affecting the pricing of cars in the American market,\n",
    "  since those may be very different from the Chinese market. The company wants to know:\n",
    "    - Which variables are significant in predicting the price of a car\n",
    "    - How well those variables describe the price of a car\n",
    "- Based on various market surveys,\n",
    "  the consulting firm has gathered a large dataset of different types of cars across the Americal market.\n",
    "\n",
    "#### Goal\n",
    "- You are required to model the price of cars with the available independent variables. \n",
    "- It will be used by the management to understand how exactly the prices vary with the independent variables. \n",
    "- They can accordingly manipulate the design of the cars, the business strategy etc. to meet certain price levels. \n",
    "- Further, the model will be a good way for management to understand the pricing dynamics of a new market."
   ]
  },
  {
   "cell_type": "code",
   "execution_count": 95,
   "metadata": {},
   "outputs": [],
   "source": [
    "import warnings # ignore warning msg\n",
    "warnings.filterwarnings('ignore')\n",
    "\n",
    "import numpy as np\n",
    "import pandas as pd\n",
    "import matplotlib.pyplot as plt\n",
    "import seaborn as sns"
   ]
  },
  {
   "cell_type": "markdown",
   "metadata": {},
   "source": [
    "#### Reading CarPrice dataset"
   ]
  },
  {
   "cell_type": "code",
   "execution_count": 96,
   "metadata": {},
   "outputs": [],
   "source": [
    "df = pd.read_csv('CarPrice_Assignment.csv', sep=',', encoding='ISO-8859-1')\n",
    "pd.options.display.max_columns = None #for visualizing all columns."
   ]
  },
  {
   "cell_type": "code",
   "execution_count": 97,
   "metadata": {},
   "outputs": [
    {
     "name": "stdout",
     "output_type": "stream",
     "text": [
      "<class 'pandas.core.frame.DataFrame'>\n",
      "RangeIndex: 205 entries, 0 to 204\n",
      "Data columns (total 26 columns):\n",
      "car_ID              205 non-null int64\n",
      "symboling           205 non-null int64\n",
      "CarName             205 non-null object\n",
      "fueltype            205 non-null object\n",
      "aspiration          205 non-null object\n",
      "doornumber          205 non-null object\n",
      "carbody             205 non-null object\n",
      "drivewheel          205 non-null object\n",
      "enginelocation      205 non-null object\n",
      "wheelbase           205 non-null float64\n",
      "carlength           205 non-null float64\n",
      "carwidth            205 non-null float64\n",
      "carheight           205 non-null float64\n",
      "curbweight          205 non-null int64\n",
      "enginetype          205 non-null object\n",
      "cylindernumber      205 non-null object\n",
      "enginesize          205 non-null int64\n",
      "fuelsystem          205 non-null object\n",
      "boreratio           205 non-null float64\n",
      "stroke              205 non-null float64\n",
      "compressionratio    205 non-null float64\n",
      "horsepower          205 non-null int64\n",
      "peakrpm             205 non-null int64\n",
      "citympg             205 non-null int64\n",
      "highwaympg          205 non-null int64\n",
      "price               205 non-null float64\n",
      "dtypes: float64(8), int64(8), object(10)\n",
      "memory usage: 41.7+ KB\n"
     ]
    }
   ],
   "source": [
    "# checking for null values\n",
    "df.info()"
   ]
  },
  {
   "cell_type": "markdown",
   "metadata": {},
   "source": [
    "### Data Cleaning"
   ]
  },
  {
   "cell_type": "code",
   "execution_count": 98,
   "metadata": {},
   "outputs": [],
   "source": [
    "# Spliting CarCompany and CarModel name from CarName\n",
    "df['CarName']=df['CarName'].apply(lambda x : x.split(' ')[0])"
   ]
  },
  {
   "cell_type": "code",
   "execution_count": 99,
   "metadata": {},
   "outputs": [
    {
     "data": {
      "text/plain": [
       "array(['alfa-romero', 'audi', 'bmw', 'chevrolet', 'dodge', 'honda',\n",
       "       'isuzu', 'jaguar', 'maxda', 'mazda', 'buick', 'mercury',\n",
       "       'mitsubishi', 'Nissan', 'nissan', 'peugeot', 'plymouth', 'porsche',\n",
       "       'porcshce', 'renault', 'saab', 'subaru', 'toyota', 'toyouta',\n",
       "       'vokswagen', 'volkswagen', 'vw', 'volvo'], dtype=object)"
      ]
     },
     "execution_count": 99,
     "metadata": {},
     "output_type": "execute_result"
    }
   ],
   "source": [
    "df['CarName'].unique()#checking for unique counts"
   ]
  },
  {
   "cell_type": "markdown",
   "metadata": {},
   "source": [
    "##### Replacing spelling errors"
   ]
  },
  {
   "cell_type": "code",
   "execution_count": 100,
   "metadata": {},
   "outputs": [],
   "source": [
    "#As there are some spelling errors that need to be correct.\n",
    "def rep_name(a,b):\n",
    "    df.CarName.replace(a,b, inplace=True)\n",
    "\n",
    "rep_name('maxda','mazda')\n",
    "rep_name('vokswagen','volkswagen')\n",
    "rep_name('vw','volkswagen')\n",
    "rep_name('toyouta','toyota')\n",
    "rep_name('porcshce','porsche')\n",
    "rep_name('Nissan','nissan')"
   ]
  },
  {
   "cell_type": "code",
   "execution_count": 101,
   "metadata": {},
   "outputs": [
    {
     "data": {
      "text/html": [
       "<div>\n",
       "<style scoped>\n",
       "    .dataframe tbody tr th:only-of-type {\n",
       "        vertical-align: middle;\n",
       "    }\n",
       "\n",
       "    .dataframe tbody tr th {\n",
       "        vertical-align: top;\n",
       "    }\n",
       "\n",
       "    .dataframe thead th {\n",
       "        text-align: right;\n",
       "    }\n",
       "</style>\n",
       "<table border=\"1\" class=\"dataframe\">\n",
       "  <thead>\n",
       "    <tr style=\"text-align: right;\">\n",
       "      <th></th>\n",
       "      <th>car_ID</th>\n",
       "      <th>symboling</th>\n",
       "      <th>CarName</th>\n",
       "      <th>fueltype</th>\n",
       "      <th>aspiration</th>\n",
       "      <th>doornumber</th>\n",
       "      <th>carbody</th>\n",
       "      <th>drivewheel</th>\n",
       "      <th>enginelocation</th>\n",
       "      <th>wheelbase</th>\n",
       "      <th>carlength</th>\n",
       "      <th>carwidth</th>\n",
       "      <th>carheight</th>\n",
       "      <th>curbweight</th>\n",
       "      <th>enginetype</th>\n",
       "      <th>cylindernumber</th>\n",
       "      <th>enginesize</th>\n",
       "      <th>fuelsystem</th>\n",
       "      <th>boreratio</th>\n",
       "      <th>stroke</th>\n",
       "      <th>compressionratio</th>\n",
       "      <th>horsepower</th>\n",
       "      <th>peakrpm</th>\n",
       "      <th>citympg</th>\n",
       "      <th>highwaympg</th>\n",
       "      <th>price</th>\n",
       "    </tr>\n",
       "  </thead>\n",
       "  <tbody>\n",
       "    <tr>\n",
       "      <th>0</th>\n",
       "      <td>1</td>\n",
       "      <td>3</td>\n",
       "      <td>alfa-romero</td>\n",
       "      <td>gas</td>\n",
       "      <td>std</td>\n",
       "      <td>two</td>\n",
       "      <td>convertible</td>\n",
       "      <td>rwd</td>\n",
       "      <td>front</td>\n",
       "      <td>88.6</td>\n",
       "      <td>168.8</td>\n",
       "      <td>64.1</td>\n",
       "      <td>48.8</td>\n",
       "      <td>2548</td>\n",
       "      <td>dohc</td>\n",
       "      <td>four</td>\n",
       "      <td>130</td>\n",
       "      <td>mpfi</td>\n",
       "      <td>3.47</td>\n",
       "      <td>2.68</td>\n",
       "      <td>9.0</td>\n",
       "      <td>111</td>\n",
       "      <td>5000</td>\n",
       "      <td>21</td>\n",
       "      <td>27</td>\n",
       "      <td>13495.0</td>\n",
       "    </tr>\n",
       "    <tr>\n",
       "      <th>1</th>\n",
       "      <td>2</td>\n",
       "      <td>3</td>\n",
       "      <td>alfa-romero</td>\n",
       "      <td>gas</td>\n",
       "      <td>std</td>\n",
       "      <td>two</td>\n",
       "      <td>convertible</td>\n",
       "      <td>rwd</td>\n",
       "      <td>front</td>\n",
       "      <td>88.6</td>\n",
       "      <td>168.8</td>\n",
       "      <td>64.1</td>\n",
       "      <td>48.8</td>\n",
       "      <td>2548</td>\n",
       "      <td>dohc</td>\n",
       "      <td>four</td>\n",
       "      <td>130</td>\n",
       "      <td>mpfi</td>\n",
       "      <td>3.47</td>\n",
       "      <td>2.68</td>\n",
       "      <td>9.0</td>\n",
       "      <td>111</td>\n",
       "      <td>5000</td>\n",
       "      <td>21</td>\n",
       "      <td>27</td>\n",
       "      <td>16500.0</td>\n",
       "    </tr>\n",
       "    <tr>\n",
       "      <th>2</th>\n",
       "      <td>3</td>\n",
       "      <td>1</td>\n",
       "      <td>alfa-romero</td>\n",
       "      <td>gas</td>\n",
       "      <td>std</td>\n",
       "      <td>two</td>\n",
       "      <td>hatchback</td>\n",
       "      <td>rwd</td>\n",
       "      <td>front</td>\n",
       "      <td>94.5</td>\n",
       "      <td>171.2</td>\n",
       "      <td>65.5</td>\n",
       "      <td>52.4</td>\n",
       "      <td>2823</td>\n",
       "      <td>ohcv</td>\n",
       "      <td>six</td>\n",
       "      <td>152</td>\n",
       "      <td>mpfi</td>\n",
       "      <td>2.68</td>\n",
       "      <td>3.47</td>\n",
       "      <td>9.0</td>\n",
       "      <td>154</td>\n",
       "      <td>5000</td>\n",
       "      <td>19</td>\n",
       "      <td>26</td>\n",
       "      <td>16500.0</td>\n",
       "    </tr>\n",
       "    <tr>\n",
       "      <th>3</th>\n",
       "      <td>4</td>\n",
       "      <td>2</td>\n",
       "      <td>audi</td>\n",
       "      <td>gas</td>\n",
       "      <td>std</td>\n",
       "      <td>four</td>\n",
       "      <td>sedan</td>\n",
       "      <td>fwd</td>\n",
       "      <td>front</td>\n",
       "      <td>99.8</td>\n",
       "      <td>176.6</td>\n",
       "      <td>66.2</td>\n",
       "      <td>54.3</td>\n",
       "      <td>2337</td>\n",
       "      <td>ohc</td>\n",
       "      <td>four</td>\n",
       "      <td>109</td>\n",
       "      <td>mpfi</td>\n",
       "      <td>3.19</td>\n",
       "      <td>3.40</td>\n",
       "      <td>10.0</td>\n",
       "      <td>102</td>\n",
       "      <td>5500</td>\n",
       "      <td>24</td>\n",
       "      <td>30</td>\n",
       "      <td>13950.0</td>\n",
       "    </tr>\n",
       "    <tr>\n",
       "      <th>4</th>\n",
       "      <td>5</td>\n",
       "      <td>2</td>\n",
       "      <td>audi</td>\n",
       "      <td>gas</td>\n",
       "      <td>std</td>\n",
       "      <td>four</td>\n",
       "      <td>sedan</td>\n",
       "      <td>4wd</td>\n",
       "      <td>front</td>\n",
       "      <td>99.4</td>\n",
       "      <td>176.6</td>\n",
       "      <td>66.4</td>\n",
       "      <td>54.3</td>\n",
       "      <td>2824</td>\n",
       "      <td>ohc</td>\n",
       "      <td>five</td>\n",
       "      <td>136</td>\n",
       "      <td>mpfi</td>\n",
       "      <td>3.19</td>\n",
       "      <td>3.40</td>\n",
       "      <td>8.0</td>\n",
       "      <td>115</td>\n",
       "      <td>5500</td>\n",
       "      <td>18</td>\n",
       "      <td>22</td>\n",
       "      <td>17450.0</td>\n",
       "    </tr>\n",
       "  </tbody>\n",
       "</table>\n",
       "</div>"
      ],
      "text/plain": [
       "   car_ID  symboling      CarName fueltype aspiration doornumber      carbody  \\\n",
       "0       1          3  alfa-romero      gas        std        two  convertible   \n",
       "1       2          3  alfa-romero      gas        std        two  convertible   \n",
       "2       3          1  alfa-romero      gas        std        two    hatchback   \n",
       "3       4          2         audi      gas        std       four        sedan   \n",
       "4       5          2         audi      gas        std       four        sedan   \n",
       "\n",
       "  drivewheel enginelocation  wheelbase  carlength  carwidth  carheight  \\\n",
       "0        rwd          front       88.6      168.8      64.1       48.8   \n",
       "1        rwd          front       88.6      168.8      64.1       48.8   \n",
       "2        rwd          front       94.5      171.2      65.5       52.4   \n",
       "3        fwd          front       99.8      176.6      66.2       54.3   \n",
       "4        4wd          front       99.4      176.6      66.4       54.3   \n",
       "\n",
       "   curbweight enginetype cylindernumber  enginesize fuelsystem  boreratio  \\\n",
       "0        2548       dohc           four         130       mpfi       3.47   \n",
       "1        2548       dohc           four         130       mpfi       3.47   \n",
       "2        2823       ohcv            six         152       mpfi       2.68   \n",
       "3        2337        ohc           four         109       mpfi       3.19   \n",
       "4        2824        ohc           five         136       mpfi       3.19   \n",
       "\n",
       "   stroke  compressionratio  horsepower  peakrpm  citympg  highwaympg    price  \n",
       "0    2.68               9.0         111     5000       21          27  13495.0  \n",
       "1    2.68               9.0         111     5000       21          27  16500.0  \n",
       "2    3.47               9.0         154     5000       19          26  16500.0  \n",
       "3    3.40              10.0         102     5500       24          30  13950.0  \n",
       "4    3.40               8.0         115     5500       18          22  17450.0  "
      ]
     },
     "execution_count": 101,
     "metadata": {},
     "output_type": "execute_result"
    }
   ],
   "source": [
    "df.head()"
   ]
  },
  {
   "cell_type": "code",
   "execution_count": 102,
   "metadata": {},
   "outputs": [
    {
     "data": {
      "text/plain": [
       "four    115\n",
       "two      90\n",
       "Name: doornumber, dtype: int64"
      ]
     },
     "execution_count": 102,
     "metadata": {},
     "output_type": "execute_result"
    }
   ],
   "source": [
    "df['doornumber'].value_counts()"
   ]
  },
  {
   "cell_type": "code",
   "execution_count": 103,
   "metadata": {},
   "outputs": [
    {
     "data": {
      "text/plain": [
       "(205, 26)"
      ]
     },
     "execution_count": 103,
     "metadata": {},
     "output_type": "execute_result"
    }
   ],
   "source": [
    "df.shape"
   ]
  },
  {
   "cell_type": "markdown",
   "metadata": {},
   "source": [
    "### Data Visualization"
   ]
  },
  {
   "cell_type": "code",
   "execution_count": 104,
   "metadata": {},
   "outputs": [
    {
     "data": {
      "image/png": "[encoded data removed]",
      "text/plain": [
       "<Figure size 1440x576 with 2 Axes>"
      ]
     },
     "metadata": {
      "needs_background": "light"
     },
     "output_type": "display_data"
    }
   ],
   "source": [
    "plt.figure(figsize=(20,8))\n",
    "\n",
    "plt.subplot(1,2,1)\n",
    "plt.title('Car Price Distribution')\n",
    "sns.distplot(df.price)\n",
    "\n",
    "plt.subplot(1,2,2)\n",
    "plt.title('Car Price')\n",
    "sns.boxplot(y=df.price)\n",
    "\n",
    "plt.show()\n"
   ]
  },
  {
   "cell_type": "markdown",
   "metadata": {},
   "source": [
    "- It looks like price is normally distributed"
   ]
  },
  {
   "cell_type": "markdown",
   "metadata": {},
   "source": [
    "##### Visualising categorical variable\n",
    "- CarName\n",
    "- Symboling\n",
    "- fueltype\n",
    "- enginetype\n",
    "- carbody\n",
    "- doornumber\n",
    "- enginelocation\n",
    "- fuelsystem\n",
    "- cylindernumber\n",
    "- aspiration\n",
    "- drivewheel"
   ]
  },
  {
   "cell_type": "code",
   "execution_count": 105,
   "metadata": {},
   "outputs": [
    {
     "data": {
      "image/png": "[encoded data removed]",
      "text/plain": [
       "<Figure size 1800x432 with 3 Axes>"
      ]
     },
     "metadata": {
      "needs_background": "light"
     },
     "output_type": "display_data"
    },
    {
     "data": {
      "image/png": "[encoded data removed]",
      "text/plain": [
       "<Figure size 576x432 with 1 Axes>"
      ]
     },
     "metadata": {
      "needs_background": "light"
     },
     "output_type": "display_data"
    }
   ],
   "source": [
    "plt.figure(figsize=(25, 6))\n",
    "\n",
    "plt.subplot(1,3,1)\n",
    "plt1 = df.CarName.value_counts().plot('bar')\n",
    "plt.title('Companies')\n",
    "plt1.set(xlabel = 'Car Name', ylabel='Frequency of company')\n",
    "\n",
    "plt.subplot(1,3,2)\n",
    "plt1 = df.fueltype.value_counts().plot('bar')\n",
    "plt.title('Fuel Type')\n",
    "plt1.set(xlabel = 'Fuel Type', ylabel='Frequency of fuel-type')\n",
    "\n",
    "plt.subplot(1,3,3)\n",
    "plt1 = df.carbody.value_counts().plot('bar')\n",
    "plt.title('Car Type')\n",
    "plt1.set(xlabel = 'Car Type', ylabel='Frequency of Car-type')\n",
    "\n",
    "df5 = pd.DataFrame(df.groupby(['CarName'])['price'].mean().sort_values(ascending = False))\n",
    "df5.plot.bar(figsize=(8,6))\n",
    "plt.title('CarName vs Average Price')\n",
    "plt.show()\n"
   ]
  },
  {
   "cell_type": "markdown",
   "metadata": {},
   "source": [
    "- toyota shows most favoured car\n",
    "- No. of gas fueled car more than diesel\n",
    "- sedan is top prefered car\n",
    "- Jaguar has higher selling price followed by buick, porsche"
   ]
  },
  {
   "cell_type": "code",
   "execution_count": 106,
   "metadata": {},
   "outputs": [
    {
     "data": {
      "image/png": "[encoded data removed]",
      "text/plain": [
       "<Figure size 1440x576 with 2 Axes>"
      ]
     },
     "metadata": {
      "needs_background": "light"
     },
     "output_type": "display_data"
    }
   ],
   "source": [
    "plt.figure(figsize=(20,8))\n",
    "\n",
    "plt.subplot(1,2,1)\n",
    "plt.title('Symboling')\n",
    "sns.countplot(df.symboling, palette=(\"cubehelix\"))\n",
    "\n",
    "plt.subplot(1,2,2)\n",
    "plt.title('Symboling vs Price')\n",
    "sns.boxplot(x=df.symboling, y=df.price, palette=(\"cubehelix\"))\n",
    "\n",
    "plt.show()"
   ]
  },
  {
   "cell_type": "markdown",
   "metadata": {},
   "source": [
    "- this shows that 0 and 1 have higher number of sold.\n",
    "- there is drop in price range 1\n",
    "- 3 is similar to price range -2"
   ]
  },
  {
   "cell_type": "code",
   "execution_count": 107,
   "metadata": {},
   "outputs": [
    {
     "data": {
      "image/png": "[encoded data removed]",
      "text/plain": [
       "<Figure size 1080x576 with 1 Axes>"
      ]
     },
     "metadata": {
      "needs_background": "light"
     },
     "output_type": "display_data"
    },
    {
     "data": {
      "image/png": "[encoded data removed]",
      "text/plain": [
       "<Figure size 576x432 with 1 Axes>"
      ]
     },
     "metadata": {
      "needs_background": "light"
     },
     "output_type": "display_data"
    }
   ],
   "source": [
    "#engine type vs price\n",
    "plt.figure(figsize=(15,8))\n",
    "plt.subplot(1,2,1)\n",
    "plt.title('Engine Type')\n",
    "sns.countplot(df.enginetype, palette=(\"Blues_d\"))\n",
    "\n",
    "#plt.subplot(1,2,2)\n",
    "df1 = pd.DataFrame(df.groupby(['enginetype'])['price'].mean().sort_values(ascending = False))\n",
    "df1.plot.bar(figsize=(8,6))\n",
    "plt.title('Engine Type vs Average Price')\n",
    "plt.show()"
   ]
  },
  {
   "cell_type": "markdown",
   "metadata": {},
   "source": [
    "- ohcv engine type most favoured.\n",
    "- ohc and ohcf has low price range"
   ]
  },
  {
   "cell_type": "code",
   "execution_count": 108,
   "metadata": {},
   "outputs": [
    {
     "data": {
      "text/plain": [
       "<Figure size 1800x432 with 0 Axes>"
      ]
     },
     "metadata": {},
     "output_type": "display_data"
    },
    {
     "data": {
      "image/png": "[encoded data removed]",
      "text/plain": [
       "<Figure size 432x288 with 1 Axes>"
      ]
     },
     "metadata": {
      "needs_background": "light"
     },
     "output_type": "display_data"
    },
    {
     "data": {
      "image/png": "[encoded data removed]",
      "text/plain": [
       "<Figure size 432x288 with 1 Axes>"
      ]
     },
     "metadata": {
      "needs_background": "light"
     },
     "output_type": "display_data"
    },
    {
     "data": {
      "image/png": "[encoded data removed]",
      "text/plain": [
       "<Figure size 432x288 with 1 Axes>"
      ]
     },
     "metadata": {
      "needs_background": "light"
     },
     "output_type": "display_data"
    }
   ],
   "source": [
    "plt.figure(figsize=(25, 6))\n",
    "\n",
    "df2 = pd.DataFrame(df.groupby(['CarName'])['price'].mean().sort_values(ascending = False))\n",
    "df2.plot.bar()\n",
    "plt.title('Company Name vs Average Price')\n",
    "plt.show()\n",
    "\n",
    "df3 = pd.DataFrame(df.groupby(['fueltype'])['price'].mean().sort_values(ascending = False))\n",
    "df3.plot.bar()\n",
    "plt.title('Fuel Type vs Average Price')\n",
    "plt.show()\n",
    "\n",
    "df4 = pd.DataFrame(df.groupby(['carbody'])['price'].mean().sort_values(ascending = False))\n",
    "df4.plot.bar()\n",
    "plt.title('Car Type vs Average Price')\n",
    "plt.show()"
   ]
  },
  {
   "cell_type": "markdown",
   "metadata": {},
   "source": [
    "- jaguar and buick have higher price range\n",
    "- diesel has higher price than gas\n",
    "- hardtop and convertible have higher price"
   ]
  },
  {
   "cell_type": "code",
   "execution_count": 109,
   "metadata": {},
   "outputs": [
    {
     "data": {
      "image/png": "[encoded data removed]",
      "text/plain": [
       "<Figure size 864x360 with 2 Axes>"
      ]
     },
     "metadata": {
      "needs_background": "light"
     },
     "output_type": "display_data"
    },
    {
     "data": {
      "image/png": "[encoded data removed]",
      "text/plain": [
       "<Figure size 864x360 with 2 Axes>"
      ]
     },
     "metadata": {
      "needs_background": "light"
     },
     "output_type": "display_data"
    }
   ],
   "source": [
    "plt.figure(figsize=(12,5))\n",
    "\n",
    "plt.subplot(1,2,1)\n",
    "plt.title('Door Number')\n",
    "sns.countplot(df.doornumber, palette=(\"deep\"))\n",
    "\n",
    "plt.subplot(1,2,2)\n",
    "plt.title('Door Number vs Price')\n",
    "sns.boxplot(x=df.doornumber, y=df.price, palette=(\"deep\"))\n",
    "\n",
    "plt.show()\n",
    "\n",
    "plt.figure(figsize=(12,5))\n",
    "\n",
    "plt.subplot(1,2,1)\n",
    "plt.title('Aspiration')\n",
    "sns.countplot(df.aspiration, palette=(\"rocket\"))\n",
    "\n",
    "plt.subplot(1,2,2)\n",
    "plt.title('Aspiration vs Price')\n",
    "sns.boxplot(x=df.aspiration, y=df.price, palette=(\"rocket\"))\n",
    "\n",
    "plt.show()"
   ]
  },
  {
   "cell_type": "markdown",
   "metadata": {},
   "source": [
    "- doornumber four has higher number than two. \n",
    "- doornumber is not affecting much in price.\n",
    "- turbo has higher price than std.\n",
    "- little variance in price with aspiration."
   ]
  },
  {
   "cell_type": "code",
   "execution_count": 110,
   "metadata": {},
   "outputs": [
    {
     "data": {
      "image/png": "[encoded data removed]",
      "text/plain": [
       "<Figure size 1080x360 with 2 Axes>"
      ]
     },
     "metadata": {
      "needs_background": "light"
     },
     "output_type": "display_data"
    },
    {
     "data": {
      "image/png": "[encoded data removed]",
      "text/plain": [
       "<Figure size 1080x360 with 2 Axes>"
      ]
     },
     "metadata": {
      "needs_background": "light"
     },
     "output_type": "display_data"
    }
   ],
   "source": [
    "plt.figure(figsize=(15,5))\n",
    "\n",
    "plt.subplot(1,2,1)\n",
    "plt.title('cylinder Number')\n",
    "sns.countplot(df.cylindernumber, palette=(\"plasma\"))\n",
    "\n",
    "plt.subplot(1,2,2)\n",
    "plt.title('Engine location vs Price')\n",
    "sns.boxplot(x=df.enginelocation, y=df.price, palette=(\"plasma\"))\n",
    "\n",
    "plt.show()\n",
    "\n",
    "plt.figure(figsize=(15,5))\n",
    "\n",
    "plt.subplot(1,2,1)\n",
    "plt.title('drive wheel')\n",
    "sns.countplot(df.drivewheel, palette=(\"rocket\"))\n",
    "\n",
    "plt.subplot(1,2,2)\n",
    "plt.title('drive wheel vs Price')\n",
    "sns.boxplot(x=df.drivewheel, y=df.price, palette=(\"rocket\"))\n",
    "\n",
    "plt.show()"
   ]
  },
  {
   "cell_type": "markdown",
   "metadata": {},
   "source": [
    "- Most common cylinder are four, five, six\n",
    "- A very few significant in drivewheel most higher price prefered FWD"
   ]
  },
  {
   "cell_type": "code",
   "execution_count": 111,
   "metadata": {},
   "outputs": [
    {
     "data": {
      "image/png": "[encoded data removed]",
      "text/plain": [
       "<Figure size 720x360 with 2 Axes>"
      ]
     },
     "metadata": {
      "needs_background": "light"
     },
     "output_type": "display_data"
    }
   ],
   "source": [
    "# Visualising through Scatter Plot\n",
    "plt.figure(figsize=(10,5))\n",
    "plt.subplot(1,2,1)\n",
    "plt.scatter(x=df.carlength, y=df.price)\n",
    "plt.title('carlength vs price')\n",
    "\n",
    "plt.subplot(1,2,2)\n",
    "plt.scatter(x=df.carwidth, y=df.price)\n",
    "plt.title('carwidth vs price')\n",
    "plt.show()"
   ]
  },
  {
   "cell_type": "markdown",
   "metadata": {},
   "source": [
    "- carlenght and carwidth shows positive correlation with price"
   ]
  },
  {
   "cell_type": "code",
   "execution_count": 112,
   "metadata": {},
   "outputs": [
    {
     "data": {
      "image/png": "[encoded data removed]",
      "text/plain": [
       "<Figure size 720x432 with 2 Axes>"
      ]
     },
     "metadata": {
      "needs_background": "light"
     },
     "output_type": "display_data"
    }
   ],
   "source": [
    "plt.figure(figsize=(10,6))\n",
    "plt.subplot(1,2,1)\n",
    "plt.scatter(x=df.carheight, y=df.price)\n",
    "plt.title('carheight vs price')\n",
    "\n",
    "plt.subplot(1,2,2)\n",
    "plt.scatter(x=df.curbweight, y=df.price)\n",
    "plt.title('curbweight vs price')\n",
    "plt.show()"
   ]
  },
  {
   "cell_type": "markdown",
   "metadata": {},
   "source": [
    "- curbweight shows positive correlation with price.\n",
    "- carheight doesnt show significant trend with price."
   ]
  },
  {
   "cell_type": "code",
   "execution_count": 113,
   "metadata": {},
   "outputs": [
    {
     "data": {
      "image/png": "[encoded data removed]",
      "text/plain": [
       "<Figure size 864x288 with 3 Axes>"
      ]
     },
     "metadata": {
      "needs_background": "light"
     },
     "output_type": "display_data"
    },
    {
     "data": {
      "image/png": "[encoded data removed]",
      "text/plain": [
       "<Figure size 864x288 with 3 Axes>"
      ]
     },
     "metadata": {
      "needs_background": "light"
     },
     "output_type": "display_data"
    },
    {
     "data": {
      "image/png": "[encoded data removed]",
      "text/plain": [
       "<Figure size 864x288 with 3 Axes>"
      ]
     },
     "metadata": {
      "needs_background": "light"
     },
     "output_type": "display_data"
    }
   ],
   "source": [
    "#using function showing categories with price\n",
    "def pairplt(x,y,z):\n",
    "    sns.pairplot(df, x_vars=[x,y,z], y_vars='price',size=4, aspect=1, kind='scatter')\n",
    "    plt.show()\n",
    "\n",
    "pairplt('enginesize', 'boreratio', 'stroke')\n",
    "pairplt('compressionratio', 'horsepower', 'peakrpm')\n",
    "pairplt('wheelbase', 'citympg', 'highwaympg')"
   ]
  },
  {
   "cell_type": "markdown",
   "metadata": {},
   "source": [
    "- As enginesize, horsepower, wheelbase shows positive correlation with price.\n",
    "- citympg, highwaympg shows negative correlation with price."
   ]
  },
  {
   "cell_type": "markdown",
   "metadata": {},
   "source": [
    "### Correlation between variables"
   ]
  },
  {
   "cell_type": "code",
   "execution_count": 114,
   "metadata": {},
   "outputs": [
    {
     "data": {
      "image/png": "[encoded data removed]",
      "text/plain": [
       "<Figure size 1800x936 with 2 Axes>"
      ]
     },
     "metadata": {
      "needs_background": "light"
     },
     "output_type": "display_data"
    }
   ],
   "source": [
    "import seaborn as sns \n",
    "plt.figure(figsize = (25, 13))\n",
    "sns.heatmap(df.corr(), annot = True, cmap=\"YlGnBu\")\n",
    "plt.show()"
   ]
  },
  {
   "cell_type": "markdown",
   "metadata": {},
   "source": [
    "- high correlation between wheelbase, carlength, curbweight, carwidth, citympg, highwaympg \n",
    "- high correlation horsepower, enginesize, curbweight with target variable 'price'"
   ]
  },
  {
   "cell_type": "markdown",
   "metadata": {},
   "source": [
    "### Creating dummy variable"
   ]
  },
  {
   "cell_type": "code",
   "execution_count": 115,
   "metadata": {},
   "outputs": [],
   "source": [
    "#dummy=pd.get_dummies(df['fueltype'],prefix='fueltype',drop_first=True)\n",
    "#df=pd.concat([df,dummy],axis=1)\n",
    "\n",
    "#dummy=pd.get_dummies(df['aspiration'],prefix='aspiration',drop_first=True)\n",
    "#df=pd.concat([df,dummy],axis=1)\n",
    "\n",
    "dummy=pd.get_dummies(df['carbody'],prefix='carbody',drop_first=True)\n",
    "df=pd.concat([df,dummy],axis=1)\n",
    "\n",
    "dummy=pd.get_dummies(df['drivewheel'],prefix='drivewheel',drop_first=True)\n",
    "df=pd.concat([df,dummy],axis=1)\n",
    "\n",
    "dummy=pd.get_dummies(df['enginetype'],prefix='enginetype',drop_first=True)\n",
    "df=pd.concat([df,dummy],axis=1)\n",
    "\n",
    "dummy=pd.get_dummies(df['cylindernumber'],prefix='cylindernumber',drop_first=True)\n",
    "df=pd.concat([df,dummy],axis=1)\n",
    "\n",
    "dummy=pd.get_dummies(df['enginelocation'],prefix='enginelocation',drop_first=True)\n",
    "df=pd.concat([df,dummy],axis=1)\n",
    "\n",
    "#dummy=pd.get_dummies(df['doornumber'],prefix='doornumber',drop_first=True)\n",
    "#df=pd.concat([df,dummy],axis=1)\n",
    "\n",
    "#dummy=pd.get_dummies(df['fuelsystem'],prefix='fuelsystem',drop_first=True)\n",
    "#df=pd.concat([df,dummy],axis=1)\n",
    "\n",
    "dummy=pd.get_dummies(df['CarName'],prefix='CarName',drop_first=True)\n",
    "df=pd.concat([df,dummy],axis=1)"
   ]
  },
  {
   "cell_type": "code",
   "execution_count": 116,
   "metadata": {},
   "outputs": [
    {
     "data": {
      "text/plain": [
       "(205, 66)"
      ]
     },
     "execution_count": 116,
     "metadata": {},
     "output_type": "execute_result"
    }
   ],
   "source": [
    "df.shape"
   ]
  },
  {
   "cell_type": "code",
   "execution_count": 117,
   "metadata": {},
   "outputs": [],
   "source": [
    "# Dropping the non-contributing variables after dummy creation."
   ]
  },
  {
   "cell_type": "code",
   "execution_count": 118,
   "metadata": {},
   "outputs": [],
   "source": [
    "df= df.drop(['symboling','car_ID','CarName','enginelocation','carbody',\n",
    "             'drivewheel','enginetype','cylindernumber','compressionratio'\n",
    "             ,'peakrpm','fuelsystem','citympg','highwaympg'],axis=1)"
   ]
  },
  {
   "cell_type": "code",
   "execution_count": 119,
   "metadata": {},
   "outputs": [
    {
     "data": {
      "text/plain": [
       "(205, 53)"
      ]
     },
     "execution_count": 119,
     "metadata": {},
     "output_type": "execute_result"
    }
   ],
   "source": [
    "df.shape"
   ]
  },
  {
   "cell_type": "markdown",
   "metadata": {},
   "source": [
    "####  Label Encoding "
   ]
  },
  {
   "cell_type": "code",
   "execution_count": 120,
   "metadata": {},
   "outputs": [],
   "source": [
    "#import package for label encoding \n",
    "from sklearn.preprocessing import LabelEncoder\n",
    "le = LabelEncoder()"
   ]
  },
  {
   "cell_type": "code",
   "execution_count": 121,
   "metadata": {},
   "outputs": [],
   "source": [
    "#Some of categorical variables having two object so label encode with 1s and 0s\n",
    "df['fueltype']=le.fit_transform(df['fueltype'])\n",
    "df['aspiration']=le.fit_transform(df['aspiration'])\n",
    "df['doornumber']=le.fit_transform(df['doornumber'])"
   ]
  },
  {
   "cell_type": "code",
   "execution_count": 122,
   "metadata": {},
   "outputs": [
    {
     "data": {
      "text/html": [
       "<div>\n",
       "<style scoped>\n",
       "    .dataframe tbody tr th:only-of-type {\n",
       "        vertical-align: middle;\n",
       "    }\n",
       "\n",
       "    .dataframe tbody tr th {\n",
       "        vertical-align: top;\n",
       "    }\n",
       "\n",
       "    .dataframe thead th {\n",
       "        text-align: right;\n",
       "    }\n",
       "</style>\n",
       "<table border=\"1\" class=\"dataframe\">\n",
       "  <thead>\n",
       "    <tr style=\"text-align: right;\">\n",
       "      <th></th>\n",
       "      <th>fueltype</th>\n",
       "      <th>aspiration</th>\n",
       "      <th>doornumber</th>\n",
       "      <th>wheelbase</th>\n",
       "      <th>carlength</th>\n",
       "      <th>carwidth</th>\n",
       "      <th>carheight</th>\n",
       "      <th>curbweight</th>\n",
       "      <th>enginesize</th>\n",
       "      <th>boreratio</th>\n",
       "      <th>stroke</th>\n",
       "      <th>horsepower</th>\n",
       "      <th>price</th>\n",
       "      <th>carbody_hardtop</th>\n",
       "      <th>carbody_hatchback</th>\n",
       "      <th>carbody_sedan</th>\n",
       "      <th>carbody_wagon</th>\n",
       "      <th>drivewheel_fwd</th>\n",
       "      <th>drivewheel_rwd</th>\n",
       "      <th>enginetype_dohcv</th>\n",
       "      <th>enginetype_l</th>\n",
       "      <th>enginetype_ohc</th>\n",
       "      <th>enginetype_ohcf</th>\n",
       "      <th>enginetype_ohcv</th>\n",
       "      <th>enginetype_rotor</th>\n",
       "      <th>cylindernumber_five</th>\n",
       "      <th>cylindernumber_four</th>\n",
       "      <th>cylindernumber_six</th>\n",
       "      <th>cylindernumber_three</th>\n",
       "      <th>cylindernumber_twelve</th>\n",
       "      <th>cylindernumber_two</th>\n",
       "      <th>enginelocation_rear</th>\n",
       "      <th>CarName_audi</th>\n",
       "      <th>CarName_bmw</th>\n",
       "      <th>CarName_buick</th>\n",
       "      <th>CarName_chevrolet</th>\n",
       "      <th>CarName_dodge</th>\n",
       "      <th>CarName_honda</th>\n",
       "      <th>CarName_isuzu</th>\n",
       "      <th>CarName_jaguar</th>\n",
       "      <th>CarName_mazda</th>\n",
       "      <th>CarName_mercury</th>\n",
       "      <th>CarName_mitsubishi</th>\n",
       "      <th>CarName_nissan</th>\n",
       "      <th>CarName_peugeot</th>\n",
       "      <th>CarName_plymouth</th>\n",
       "      <th>CarName_porsche</th>\n",
       "      <th>CarName_renault</th>\n",
       "      <th>CarName_saab</th>\n",
       "      <th>CarName_subaru</th>\n",
       "      <th>CarName_toyota</th>\n",
       "      <th>CarName_volkswagen</th>\n",
       "      <th>CarName_volvo</th>\n",
       "    </tr>\n",
       "  </thead>\n",
       "  <tbody>\n",
       "    <tr>\n",
       "      <th>0</th>\n",
       "      <td>1</td>\n",
       "      <td>0</td>\n",
       "      <td>1</td>\n",
       "      <td>88.6</td>\n",
       "      <td>168.8</td>\n",
       "      <td>64.1</td>\n",
       "      <td>48.8</td>\n",
       "      <td>2548</td>\n",
       "      <td>130</td>\n",
       "      <td>3.47</td>\n",
       "      <td>2.68</td>\n",
       "      <td>111</td>\n",
       "      <td>13495.0</td>\n",
       "      <td>0</td>\n",
       "      <td>0</td>\n",
       "      <td>0</td>\n",
       "      <td>0</td>\n",
       "      <td>0</td>\n",
       "      <td>1</td>\n",
       "      <td>0</td>\n",
       "      <td>0</td>\n",
       "      <td>0</td>\n",
       "      <td>0</td>\n",
       "      <td>0</td>\n",
       "      <td>0</td>\n",
       "      <td>0</td>\n",
       "      <td>1</td>\n",
       "      <td>0</td>\n",
       "      <td>0</td>\n",
       "      <td>0</td>\n",
       "      <td>0</td>\n",
       "      <td>0</td>\n",
       "      <td>0</td>\n",
       "      <td>0</td>\n",
       "      <td>0</td>\n",
       "      <td>0</td>\n",
       "      <td>0</td>\n",
       "      <td>0</td>\n",
       "      <td>0</td>\n",
       "      <td>0</td>\n",
       "      <td>0</td>\n",
       "      <td>0</td>\n",
       "      <td>0</td>\n",
       "      <td>0</td>\n",
       "      <td>0</td>\n",
       "      <td>0</td>\n",
       "      <td>0</td>\n",
       "      <td>0</td>\n",
       "      <td>0</td>\n",
       "      <td>0</td>\n",
       "      <td>0</td>\n",
       "      <td>0</td>\n",
       "      <td>0</td>\n",
       "    </tr>\n",
       "    <tr>\n",
       "      <th>1</th>\n",
       "      <td>1</td>\n",
       "      <td>0</td>\n",
       "      <td>1</td>\n",
       "      <td>88.6</td>\n",
       "      <td>168.8</td>\n",
       "      <td>64.1</td>\n",
       "      <td>48.8</td>\n",
       "      <td>2548</td>\n",
       "      <td>130</td>\n",
       "      <td>3.47</td>\n",
       "      <td>2.68</td>\n",
       "      <td>111</td>\n",
       "      <td>16500.0</td>\n",
       "      <td>0</td>\n",
       "      <td>0</td>\n",
       "      <td>0</td>\n",
       "      <td>0</td>\n",
       "      <td>0</td>\n",
       "      <td>1</td>\n",
       "      <td>0</td>\n",
       "      <td>0</td>\n",
       "      <td>0</td>\n",
       "      <td>0</td>\n",
       "      <td>0</td>\n",
       "      <td>0</td>\n",
       "      <td>0</td>\n",
       "      <td>1</td>\n",
       "      <td>0</td>\n",
       "      <td>0</td>\n",
       "      <td>0</td>\n",
       "      <td>0</td>\n",
       "      <td>0</td>\n",
       "      <td>0</td>\n",
       "      <td>0</td>\n",
       "      <td>0</td>\n",
       "      <td>0</td>\n",
       "      <td>0</td>\n",
       "      <td>0</td>\n",
       "      <td>0</td>\n",
       "      <td>0</td>\n",
       "      <td>0</td>\n",
       "      <td>0</td>\n",
       "      <td>0</td>\n",
       "      <td>0</td>\n",
       "      <td>0</td>\n",
       "      <td>0</td>\n",
       "      <td>0</td>\n",
       "      <td>0</td>\n",
       "      <td>0</td>\n",
       "      <td>0</td>\n",
       "      <td>0</td>\n",
       "      <td>0</td>\n",
       "      <td>0</td>\n",
       "    </tr>\n",
       "    <tr>\n",
       "      <th>2</th>\n",
       "      <td>1</td>\n",
       "      <td>0</td>\n",
       "      <td>1</td>\n",
       "      <td>94.5</td>\n",
       "      <td>171.2</td>\n",
       "      <td>65.5</td>\n",
       "      <td>52.4</td>\n",
       "      <td>2823</td>\n",
       "      <td>152</td>\n",
       "      <td>2.68</td>\n",
       "      <td>3.47</td>\n",
       "      <td>154</td>\n",
       "      <td>16500.0</td>\n",
       "      <td>0</td>\n",
       "      <td>1</td>\n",
       "      <td>0</td>\n",
       "      <td>0</td>\n",
       "      <td>0</td>\n",
       "      <td>1</td>\n",
       "      <td>0</td>\n",
       "      <td>0</td>\n",
       "      <td>0</td>\n",
       "      <td>0</td>\n",
       "      <td>1</td>\n",
       "      <td>0</td>\n",
       "      <td>0</td>\n",
       "      <td>0</td>\n",
       "      <td>1</td>\n",
       "      <td>0</td>\n",
       "      <td>0</td>\n",
       "      <td>0</td>\n",
       "      <td>0</td>\n",
       "      <td>0</td>\n",
       "      <td>0</td>\n",
       "      <td>0</td>\n",
       "      <td>0</td>\n",
       "      <td>0</td>\n",
       "      <td>0</td>\n",
       "      <td>0</td>\n",
       "      <td>0</td>\n",
       "      <td>0</td>\n",
       "      <td>0</td>\n",
       "      <td>0</td>\n",
       "      <td>0</td>\n",
       "      <td>0</td>\n",
       "      <td>0</td>\n",
       "      <td>0</td>\n",
       "      <td>0</td>\n",
       "      <td>0</td>\n",
       "      <td>0</td>\n",
       "      <td>0</td>\n",
       "      <td>0</td>\n",
       "      <td>0</td>\n",
       "    </tr>\n",
       "    <tr>\n",
       "      <th>3</th>\n",
       "      <td>1</td>\n",
       "      <td>0</td>\n",
       "      <td>0</td>\n",
       "      <td>99.8</td>\n",
       "      <td>176.6</td>\n",
       "      <td>66.2</td>\n",
       "      <td>54.3</td>\n",
       "      <td>2337</td>\n",
       "      <td>109</td>\n",
       "      <td>3.19</td>\n",
       "      <td>3.40</td>\n",
       "      <td>102</td>\n",
       "      <td>13950.0</td>\n",
       "      <td>0</td>\n",
       "      <td>0</td>\n",
       "      <td>1</td>\n",
       "      <td>0</td>\n",
       "      <td>1</td>\n",
       "      <td>0</td>\n",
       "      <td>0</td>\n",
       "      <td>0</td>\n",
       "      <td>1</td>\n",
       "      <td>0</td>\n",
       "      <td>0</td>\n",
       "      <td>0</td>\n",
       "      <td>0</td>\n",
       "      <td>1</td>\n",
       "      <td>0</td>\n",
       "      <td>0</td>\n",
       "      <td>0</td>\n",
       "      <td>0</td>\n",
       "      <td>0</td>\n",
       "      <td>1</td>\n",
       "      <td>0</td>\n",
       "      <td>0</td>\n",
       "      <td>0</td>\n",
       "      <td>0</td>\n",
       "      <td>0</td>\n",
       "      <td>0</td>\n",
       "      <td>0</td>\n",
       "      <td>0</td>\n",
       "      <td>0</td>\n",
       "      <td>0</td>\n",
       "      <td>0</td>\n",
       "      <td>0</td>\n",
       "      <td>0</td>\n",
       "      <td>0</td>\n",
       "      <td>0</td>\n",
       "      <td>0</td>\n",
       "      <td>0</td>\n",
       "      <td>0</td>\n",
       "      <td>0</td>\n",
       "      <td>0</td>\n",
       "    </tr>\n",
       "    <tr>\n",
       "      <th>4</th>\n",
       "      <td>1</td>\n",
       "      <td>0</td>\n",
       "      <td>0</td>\n",
       "      <td>99.4</td>\n",
       "      <td>176.6</td>\n",
       "      <td>66.4</td>\n",
       "      <td>54.3</td>\n",
       "      <td>2824</td>\n",
       "      <td>136</td>\n",
       "      <td>3.19</td>\n",
       "      <td>3.40</td>\n",
       "      <td>115</td>\n",
       "      <td>17450.0</td>\n",
       "      <td>0</td>\n",
       "      <td>0</td>\n",
       "      <td>1</td>\n",
       "      <td>0</td>\n",
       "      <td>0</td>\n",
       "      <td>0</td>\n",
       "      <td>0</td>\n",
       "      <td>0</td>\n",
       "      <td>1</td>\n",
       "      <td>0</td>\n",
       "      <td>0</td>\n",
       "      <td>0</td>\n",
       "      <td>1</td>\n",
       "      <td>0</td>\n",
       "      <td>0</td>\n",
       "      <td>0</td>\n",
       "      <td>0</td>\n",
       "      <td>0</td>\n",
       "      <td>0</td>\n",
       "      <td>1</td>\n",
       "      <td>0</td>\n",
       "      <td>0</td>\n",
       "      <td>0</td>\n",
       "      <td>0</td>\n",
       "      <td>0</td>\n",
       "      <td>0</td>\n",
       "      <td>0</td>\n",
       "      <td>0</td>\n",
       "      <td>0</td>\n",
       "      <td>0</td>\n",
       "      <td>0</td>\n",
       "      <td>0</td>\n",
       "      <td>0</td>\n",
       "      <td>0</td>\n",
       "      <td>0</td>\n",
       "      <td>0</td>\n",
       "      <td>0</td>\n",
       "      <td>0</td>\n",
       "      <td>0</td>\n",
       "      <td>0</td>\n",
       "    </tr>\n",
       "  </tbody>\n",
       "</table>\n",
       "</div>"
      ],
      "text/plain": [
       "   fueltype  aspiration  doornumber  wheelbase  carlength  carwidth  \\\n",
       "0         1           0           1       88.6      168.8      64.1   \n",
       "1         1           0           1       88.6      168.8      64.1   \n",
       "2         1           0           1       94.5      171.2      65.5   \n",
       "3         1           0           0       99.8      176.6      66.2   \n",
       "4         1           0           0       99.4      176.6      66.4   \n",
       "\n",
       "   carheight  curbweight  enginesize  boreratio  stroke  horsepower    price  \\\n",
       "0       48.8        2548         130       3.47    2.68         111  13495.0   \n",
       "1       48.8        2548         130       3.47    2.68         111  16500.0   \n",
       "2       52.4        2823         152       2.68    3.47         154  16500.0   \n",
       "3       54.3        2337         109       3.19    3.40         102  13950.0   \n",
       "4       54.3        2824         136       3.19    3.40         115  17450.0   \n",
       "\n",
       "   carbody_hardtop  carbody_hatchback  carbody_sedan  carbody_wagon  \\\n",
       "0                0                  0              0              0   \n",
       "1                0                  0              0              0   \n",
       "2                0                  1              0              0   \n",
       "3                0                  0              1              0   \n",
       "4                0                  0              1              0   \n",
       "\n",
       "   drivewheel_fwd  drivewheel_rwd  enginetype_dohcv  enginetype_l  \\\n",
       "0               0               1                 0             0   \n",
       "1               0               1                 0             0   \n",
       "2               0               1                 0             0   \n",
       "3               1               0                 0             0   \n",
       "4               0               0                 0             0   \n",
       "\n",
       "   enginetype_ohc  enginetype_ohcf  enginetype_ohcv  enginetype_rotor  \\\n",
       "0               0                0                0                 0   \n",
       "1               0                0                0                 0   \n",
       "2               0                0                1                 0   \n",
       "3               1                0                0                 0   \n",
       "4               1                0                0                 0   \n",
       "\n",
       "   cylindernumber_five  cylindernumber_four  cylindernumber_six  \\\n",
       "0                    0                    1                   0   \n",
       "1                    0                    1                   0   \n",
       "2                    0                    0                   1   \n",
       "3                    0                    1                   0   \n",
       "4                    1                    0                   0   \n",
       "\n",
       "   cylindernumber_three  cylindernumber_twelve  cylindernumber_two  \\\n",
       "0                     0                      0                   0   \n",
       "1                     0                      0                   0   \n",
       "2                     0                      0                   0   \n",
       "3                     0                      0                   0   \n",
       "4                     0                      0                   0   \n",
       "\n",
       "   enginelocation_rear  CarName_audi  CarName_bmw  CarName_buick  \\\n",
       "0                    0             0            0              0   \n",
       "1                    0             0            0              0   \n",
       "2                    0             0            0              0   \n",
       "3                    0             1            0              0   \n",
       "4                    0             1            0              0   \n",
       "\n",
       "   CarName_chevrolet  CarName_dodge  CarName_honda  CarName_isuzu  \\\n",
       "0                  0              0              0              0   \n",
       "1                  0              0              0              0   \n",
       "2                  0              0              0              0   \n",
       "3                  0              0              0              0   \n",
       "4                  0              0              0              0   \n",
       "\n",
       "   CarName_jaguar  CarName_mazda  CarName_mercury  CarName_mitsubishi  \\\n",
       "0               0              0                0                   0   \n",
       "1               0              0                0                   0   \n",
       "2               0              0                0                   0   \n",
       "3               0              0                0                   0   \n",
       "4               0              0                0                   0   \n",
       "\n",
       "   CarName_nissan  CarName_peugeot  CarName_plymouth  CarName_porsche  \\\n",
       "0               0                0                 0                0   \n",
       "1               0                0                 0                0   \n",
       "2               0                0                 0                0   \n",
       "3               0                0                 0                0   \n",
       "4               0                0                 0                0   \n",
       "\n",
       "   CarName_renault  CarName_saab  CarName_subaru  CarName_toyota  \\\n",
       "0                0             0               0               0   \n",
       "1                0             0               0               0   \n",
       "2                0             0               0               0   \n",
       "3                0             0               0               0   \n",
       "4                0             0               0               0   \n",
       "\n",
       "   CarName_volkswagen  CarName_volvo  \n",
       "0                   0              0  \n",
       "1                   0              0  \n",
       "2                   0              0  \n",
       "3                   0              0  \n",
       "4                   0              0  "
      ]
     },
     "execution_count": 122,
     "metadata": {},
     "output_type": "execute_result"
    }
   ],
   "source": [
    "df.head()"
   ]
  },
  {
   "cell_type": "markdown",
   "metadata": {},
   "source": [
    "### Spliting data into Train and Test Sets"
   ]
  },
  {
   "cell_type": "code",
   "execution_count": 123,
   "metadata": {},
   "outputs": [],
   "source": [
    "from sklearn.model_selection import train_test_split\n",
    "\n",
    "#We specify this so that the train and test data set always have the same rows, respectively\n",
    "np.random.seed(0)\n",
    "df_train, df_test = train_test_split(df, train_size = 0.7, test_size = 0.3, random_state = 100)"
   ]
  },
  {
   "cell_type": "markdown",
   "metadata": {},
   "source": [
    "#### Scaling the numerical variable"
   ]
  },
  {
   "cell_type": "code",
   "execution_count": 124,
   "metadata": {},
   "outputs": [],
   "source": [
    "from sklearn.preprocessing import MinMaxScaler\n",
    "scaler = MinMaxScaler() #this is normalization where variables can be reduced between 0 and 1. "
   ]
  },
  {
   "cell_type": "code",
   "execution_count": 126,
   "metadata": {},
   "outputs": [],
   "source": [
    "#apply scaler() to all columns except dummy variables\n",
    "num_var = ['fueltype','aspiration','doornumber','wheelbase','carlength','carwidth','carheight','curbweight',\n",
    "           'enginesize','boreratio','stroke','horsepower','price']\n"
   ]
  },
  {
   "cell_type": "code",
   "execution_count": 127,
   "metadata": {},
   "outputs": [],
   "source": [
    "# scaling the train dataset using scaler transformation\n",
    "df_train[num_var]= scaler.fit_transform(df_train[num_var])"
   ]
  },
  {
   "cell_type": "code",
   "execution_count": 33,
   "metadata": {},
   "outputs": [
    {
     "data": {
      "text/plain": [
       "(143, 53)"
      ]
     },
     "execution_count": 33,
     "metadata": {},
     "output_type": "execute_result"
    }
   ],
   "source": [
    "df_train.shape"
   ]
  },
  {
   "cell_type": "markdown",
   "metadata": {},
   "source": [
    "### Building Model Using RFE (Recursive Feature Elimination)"
   ]
  },
  {
   "cell_type": "markdown",
   "metadata": {},
   "source": [
    "#### Spliting train set into X and y"
   ]
  },
  {
   "cell_type": "code",
   "execution_count": 34,
   "metadata": {},
   "outputs": [],
   "source": [
    "y_train = df_train.pop('price')\n",
    "X_train = df_train"
   ]
  },
  {
   "cell_type": "code",
   "execution_count": 35,
   "metadata": {},
   "outputs": [],
   "source": [
    "#using statsmodel for model building\n",
    "import statsmodels.api as sm\n",
    "#add the constant to train variable\n",
    "X_train_lm = sm.add_constant(X_train)\n",
    "#calculate the Ordinary least Square after fitting the train data set\n",
    "lr = sm.OLS(y_train,X_train_lm).fit()"
   ]
  },
  {
   "cell_type": "code",
   "execution_count": 36,
   "metadata": {},
   "outputs": [],
   "source": [
    "# Importing RFE and LinearRegression\n",
    "from sklearn.feature_selection import RFE\n",
    "from sklearn.linear_model import LinearRegression"
   ]
  },
  {
   "cell_type": "code",
   "execution_count": 37,
   "metadata": {},
   "outputs": [],
   "source": [
    "# Running RFE with the output number of variable equal to 20\n",
    "lm = LinearRegression()\n",
    "lm.fit(X_train, y_train)# fit the X and y train for RFE\n",
    "rfe = RFE(lm,20)\n",
    "rfe = rfe.fit(X_train, y_train)"
   ]
  },
  {
   "cell_type": "code",
   "execution_count": 38,
   "metadata": {},
   "outputs": [
    {
     "data": {
      "text/plain": [
       "[('fueltype', False, 30),\n",
       " ('aspiration', False, 4),\n",
       " ('doornumber', False, 32),\n",
       " ('wheelbase', False, 5),\n",
       " ('carlength', False, 13),\n",
       " ('carwidth', True, 1),\n",
       " ('carheight', False, 6),\n",
       " ('curbweight', True, 1),\n",
       " ('enginesize', True, 1),\n",
       " ('boreratio', True, 1),\n",
       " ('stroke', True, 1),\n",
       " ('horsepower', False, 12),\n",
       " ('carbody_hardtop', False, 15),\n",
       " ('carbody_hatchback', False, 14),\n",
       " ('carbody_sedan', False, 16),\n",
       " ('carbody_wagon', False, 17),\n",
       " ('drivewheel_fwd', False, 28),\n",
       " ('drivewheel_rwd', False, 31),\n",
       " ('enginetype_dohcv', False, 2),\n",
       " ('enginetype_l', True, 1),\n",
       " ('enginetype_ohc', False, 25),\n",
       " ('enginetype_ohcf', True, 1),\n",
       " ('enginetype_ohcv', False, 18),\n",
       " ('enginetype_rotor', True, 1),\n",
       " ('cylindernumber_five', True, 1),\n",
       " ('cylindernumber_four', True, 1),\n",
       " ('cylindernumber_six', False, 9),\n",
       " ('cylindernumber_three', True, 1),\n",
       " ('cylindernumber_twelve', True, 1),\n",
       " ('cylindernumber_two', True, 1),\n",
       " ('enginelocation_rear', True, 1),\n",
       " ('CarName_audi', False, 11),\n",
       " ('CarName_bmw', True, 1),\n",
       " ('CarName_buick', False, 10),\n",
       " ('CarName_chevrolet', False, 26),\n",
       " ('CarName_dodge', False, 8),\n",
       " ('CarName_honda', False, 27),\n",
       " ('CarName_isuzu', False, 19),\n",
       " ('CarName_jaguar', False, 29),\n",
       " ('CarName_mazda', False, 21),\n",
       " ('CarName_mercury', False, 33),\n",
       " ('CarName_mitsubishi', False, 3),\n",
       " ('CarName_nissan', False, 20),\n",
       " ('CarName_peugeot', True, 1),\n",
       " ('CarName_plymouth', False, 7),\n",
       " ('CarName_porsche', True, 1),\n",
       " ('CarName_renault', False, 23),\n",
       " ('CarName_saab', True, 1),\n",
       " ('CarName_subaru', True, 1),\n",
       " ('CarName_toyota', False, 24),\n",
       " ('CarName_volkswagen', False, 22),\n",
       " ('CarName_volvo', True, 1)]"
      ]
     },
     "execution_count": 38,
     "metadata": {},
     "output_type": "execute_result"
    }
   ],
   "source": [
    "list(zip(X_train.columns, rfe.support_, rfe.ranking_))"
   ]
  },
  {
   "cell_type": "code",
   "execution_count": 39,
   "metadata": {},
   "outputs": [
    {
     "data": {
      "text/plain": [
       "Index(['carwidth', 'curbweight', 'enginesize', 'boreratio', 'stroke',\n",
       "       'enginetype_l', 'enginetype_ohcf', 'enginetype_rotor',\n",
       "       'cylindernumber_five', 'cylindernumber_four', 'cylindernumber_three',\n",
       "       'cylindernumber_twelve', 'cylindernumber_two', 'enginelocation_rear',\n",
       "       'CarName_bmw', 'CarName_peugeot', 'CarName_porsche', 'CarName_saab',\n",
       "       'CarName_subaru', 'CarName_volvo'],\n",
       "      dtype='object')"
      ]
     },
     "execution_count": 39,
     "metadata": {},
     "output_type": "execute_result"
    }
   ],
   "source": [
    "#Checking for supportive columns\n",
    "col = X_train.columns[rfe.support_]\n",
    "col"
   ]
  },
  {
   "cell_type": "code",
   "execution_count": 40,
   "metadata": {},
   "outputs": [
    {
     "data": {
      "text/plain": [
       "Index(['fueltype', 'aspiration', 'doornumber', 'wheelbase', 'carlength',\n",
       "       'carheight', 'horsepower', 'carbody_hardtop', 'carbody_hatchback',\n",
       "       'carbody_sedan', 'carbody_wagon', 'drivewheel_fwd', 'drivewheel_rwd',\n",
       "       'enginetype_dohcv', 'enginetype_ohc', 'enginetype_ohcv',\n",
       "       'cylindernumber_six', 'CarName_audi', 'CarName_buick',\n",
       "       'CarName_chevrolet', 'CarName_dodge', 'CarName_honda', 'CarName_isuzu',\n",
       "       'CarName_jaguar', 'CarName_mazda', 'CarName_mercury',\n",
       "       'CarName_mitsubishi', 'CarName_nissan', 'CarName_plymouth',\n",
       "       'CarName_renault', 'CarName_toyota', 'CarName_volkswagen'],\n",
       "      dtype='object')"
      ]
     },
     "execution_count": 40,
     "metadata": {},
     "output_type": "execute_result"
    }
   ],
   "source": [
    "#Checking for unsupportive columns\n",
    "X_train.columns[~rfe.support_]"
   ]
  },
  {
   "cell_type": "markdown",
   "metadata": {},
   "source": [
    "#### Model building"
   ]
  },
  {
   "cell_type": "code",
   "execution_count": 41,
   "metadata": {},
   "outputs": [],
   "source": [
    "def build_model(X,y):\n",
    "    X = sm.add_constant(X) #Adding the constant\n",
    "    lm = sm.OLS(y,X).fit() # fitting the model\n",
    "    print(lm.summary()) # model summary\n",
    "    return X\n",
    "\n",
    "from statsmodels.stats.outliers_influence import variance_inflation_factor\n",
    "def VIF(X):\n",
    "    vif = pd.DataFrame()#creating dataframe\n",
    "    vif['Features'] = X.columns\n",
    "    vif['VIF'] = [variance_inflation_factor(X.values, i) for i in range(X.shape[1])]\n",
    "    vif['VIF'] = round(vif['VIF'], 2)\n",
    "    vif = vif.sort_values(by = \"VIF\", ascending = False)\n",
    "    return(vif)"
   ]
  },
  {
   "cell_type": "code",
   "execution_count": 42,
   "metadata": {},
   "outputs": [],
   "source": [
    "#choosing the supportive columns for model building\n",
    "X_train_rfe = X_train[col]"
   ]
  },
  {
   "cell_type": "markdown",
   "metadata": {},
   "source": [
    "#### Model 1"
   ]
  },
  {
   "cell_type": "code",
   "execution_count": 43,
   "metadata": {},
   "outputs": [
    {
     "name": "stdout",
     "output_type": "stream",
     "text": [
      "                            OLS Regression Results                            \n",
      "==============================================================================\n",
      "Dep. Variable:                  price   R-squared:                       0.947\n",
      "Model:                            OLS   Adj. R-squared:                  0.939\n",
      "Method:                 Least Squares   F-statistic:                     130.5\n",
      "Date:                Mon, 26 Aug 2019   Prob (F-statistic):           6.19e-71\n",
      "Time:                        11:51:13   Log-Likelihood:                 226.54\n",
      "No. Observations:                 143   AIC:                            -417.1\n",
      "Df Residuals:                     125   BIC:                            -363.8\n",
      "Df Model:                          17                                         \n",
      "Covariance Type:            nonrobust                                         \n",
      "=========================================================================================\n",
      "                            coef    std err          t      P>|t|      [0.025      0.975]\n",
      "-----------------------------------------------------------------------------------------\n",
      "const                    -0.3017      0.040     -7.616      0.000      -0.380      -0.223\n",
      "carwidth                  0.2790      0.062      4.514      0.000       0.157       0.401\n",
      "curbweight                0.3011      0.075      4.040      0.000       0.154       0.449\n",
      "enginesize                1.5805      0.176      9.003      0.000       1.233       1.928\n",
      "boreratio                -0.4868      0.068     -7.149      0.000      -0.622      -0.352\n",
      "stroke                   -0.2484      0.047     -5.269      0.000      -0.342      -0.155\n",
      "enginetype_l              0.1491      0.026      5.753      0.000       0.098       0.200\n",
      "enginetype_ohcf           0.1174      0.025      4.631      0.000       0.067       0.168\n",
      "enginetype_rotor          0.3014      0.036      8.293      0.000       0.229       0.373\n",
      "cylindernumber_five       0.2198      0.035      6.280      0.000       0.151       0.289\n",
      "cylindernumber_four       0.2756      0.040      6.838      0.000       0.196       0.355\n",
      "cylindernumber_three      0.3478      0.050      6.926      0.000       0.248       0.447\n",
      "cylindernumber_twelve    -0.5489      0.097     -5.673      0.000      -0.740      -0.357\n",
      "cylindernumber_two        0.3014      0.036      8.293      0.000       0.229       0.373\n",
      "enginelocation_rear       0.1777      0.050      3.560      0.001       0.079       0.277\n",
      "CarName_bmw               0.3087      0.027     11.488      0.000       0.256       0.362\n",
      "CarName_peugeot          -0.1987      0.032     -6.217      0.000      -0.262      -0.135\n",
      "CarName_porsche           0.2533      0.049      5.173      0.000       0.156       0.350\n",
      "CarName_saab              0.1009      0.036      2.833      0.005       0.030       0.171\n",
      "CarName_subaru           -0.0604      0.033     -1.845      0.067      -0.125       0.004\n",
      "CarName_volvo             0.1111      0.030      3.741      0.000       0.052       0.170\n",
      "==============================================================================\n",
      "Omnibus:                       25.635   Durbin-Watson:                   1.844\n",
      "Prob(Omnibus):                  0.000   Jarque-Bera (JB):               49.867\n",
      "Skew:                           0.797   Prob(JB):                     1.48e-11\n",
      "Kurtosis:                       5.414   Cond. No.                     3.57e+17\n",
      "==============================================================================\n",
      "\n",
      "Warnings:\n",
      "[1] Standard Errors assume that the covariance matrix of the errors is correctly specified.\n",
      "[2] The smallest eigenvalue is 2.91e-33. This might indicate that there are\n",
      "strong multicollinearity problems or that the design matrix is singular.\n"
     ]
    }
   ],
   "source": [
    "X_train_new = build_model(X_train_rfe,y_train)"
   ]
  },
  {
   "cell_type": "code",
   "execution_count": 44,
   "metadata": {},
   "outputs": [],
   "source": [
    "#drop the high p-value\n",
    "X_train_new = X_train_rfe.drop([\"CarName_subaru\"], axis = 1)"
   ]
  },
  {
   "cell_type": "markdown",
   "metadata": {},
   "source": [
    "#### Model 2"
   ]
  },
  {
   "cell_type": "code",
   "execution_count": 45,
   "metadata": {},
   "outputs": [
    {
     "name": "stdout",
     "output_type": "stream",
     "text": [
      "                            OLS Regression Results                            \n",
      "==============================================================================\n",
      "Dep. Variable:                  price   R-squared:                       0.947\n",
      "Model:                            OLS   Adj. R-squared:                  0.939\n",
      "Method:                 Least Squares   F-statistic:                     130.5\n",
      "Date:                Mon, 26 Aug 2019   Prob (F-statistic):           6.19e-71\n",
      "Time:                        11:51:13   Log-Likelihood:                 226.54\n",
      "No. Observations:                 143   AIC:                            -417.1\n",
      "Df Residuals:                     125   BIC:                            -363.8\n",
      "Df Model:                          17                                         \n",
      "Covariance Type:            nonrobust                                         \n",
      "=========================================================================================\n",
      "                            coef    std err          t      P>|t|      [0.025      0.975]\n",
      "-----------------------------------------------------------------------------------------\n",
      "const                    -0.3017      0.040     -7.616      0.000      -0.380      -0.223\n",
      "carwidth                  0.2790      0.062      4.514      0.000       0.157       0.401\n",
      "curbweight                0.3011      0.075      4.040      0.000       0.154       0.449\n",
      "enginesize                1.5805      0.176      9.003      0.000       1.233       1.928\n",
      "boreratio                -0.4868      0.068     -7.149      0.000      -0.622      -0.352\n",
      "stroke                   -0.2484      0.047     -5.269      0.000      -0.342      -0.155\n",
      "enginetype_l              0.1491      0.026      5.753      0.000       0.098       0.200\n",
      "enginetype_ohcf           0.0570      0.031      1.868      0.064      -0.003       0.117\n",
      "enginetype_rotor          0.3014      0.036      8.293      0.000       0.229       0.373\n",
      "cylindernumber_five       0.2198      0.035      6.280      0.000       0.151       0.289\n",
      "cylindernumber_four       0.2756      0.040      6.838      0.000       0.196       0.355\n",
      "cylindernumber_three      0.3478      0.050      6.926      0.000       0.248       0.447\n",
      "cylindernumber_twelve    -0.5489      0.097     -5.673      0.000      -0.740      -0.357\n",
      "cylindernumber_two        0.3014      0.036      8.293      0.000       0.229       0.373\n",
      "enginelocation_rear       0.2381      0.081      2.957      0.004       0.079       0.397\n",
      "CarName_bmw               0.3087      0.027     11.488      0.000       0.256       0.362\n",
      "CarName_peugeot          -0.1987      0.032     -6.217      0.000      -0.262      -0.135\n",
      "CarName_porsche           0.2533      0.049      5.173      0.000       0.156       0.350\n",
      "CarName_saab              0.1009      0.036      2.833      0.005       0.030       0.171\n",
      "CarName_volvo             0.1111      0.030      3.741      0.000       0.052       0.170\n",
      "==============================================================================\n",
      "Omnibus:                       25.635   Durbin-Watson:                   1.844\n",
      "Prob(Omnibus):                  0.000   Jarque-Bera (JB):               49.867\n",
      "Skew:                           0.797   Prob(JB):                     1.48e-11\n",
      "Kurtosis:                       5.414   Cond. No.                     1.91e+17\n",
      "==============================================================================\n",
      "\n",
      "Warnings:\n",
      "[1] Standard Errors assume that the covariance matrix of the errors is correctly specified.\n",
      "[2] The smallest eigenvalue is 1.02e-32. This might indicate that there are\n",
      "strong multicollinearity problems or that the design matrix is singular.\n"
     ]
    }
   ],
   "source": [
    "X_train_new = build_model(X_train_new,y_train)"
   ]
  },
  {
   "cell_type": "code",
   "execution_count": 46,
   "metadata": {},
   "outputs": [],
   "source": [
    "#drop the high p-value\n",
    "X_train_new = X_train_new.drop([\"enginetype_ohcf\"], axis = 1)"
   ]
  },
  {
   "cell_type": "markdown",
   "metadata": {},
   "source": [
    "#### Model 3"
   ]
  },
  {
   "cell_type": "code",
   "execution_count": 47,
   "metadata": {},
   "outputs": [
    {
     "name": "stdout",
     "output_type": "stream",
     "text": [
      "                            OLS Regression Results                            \n",
      "==============================================================================\n",
      "Dep. Variable:                  price   R-squared:                       0.945\n",
      "Model:                            OLS   Adj. R-squared:                  0.938\n",
      "Method:                 Least Squares   F-statistic:                     135.8\n",
      "Date:                Mon, 26 Aug 2019   Prob (F-statistic):           2.89e-71\n",
      "Time:                        11:51:13   Log-Likelihood:                 224.57\n",
      "No. Observations:                 143   AIC:                            -415.1\n",
      "Df Residuals:                     126   BIC:                            -364.8\n",
      "Df Model:                          16                                         \n",
      "Covariance Type:            nonrobust                                         \n",
      "=========================================================================================\n",
      "                            coef    std err          t      P>|t|      [0.025      0.975]\n",
      "-----------------------------------------------------------------------------------------\n",
      "const                    -0.2706      0.036     -7.455      0.000      -0.342      -0.199\n",
      "carwidth                  0.2950      0.062      4.772      0.000       0.173       0.417\n",
      "curbweight                0.2985      0.075      3.966      0.000       0.150       0.447\n",
      "enginesize                1.4561      0.164      8.876      0.000       1.131       1.781\n",
      "boreratio                -0.4064      0.053     -7.625      0.000      -0.512      -0.301\n",
      "stroke                   -0.2777      0.045     -6.188      0.000      -0.367      -0.189\n",
      "enginetype_l              0.1313      0.024      5.395      0.000       0.083       0.179\n",
      "enginetype_rotor          0.2726      0.033      8.202      0.000       0.207       0.338\n",
      "cylindernumber_five       0.1997      0.034      5.938      0.000       0.133       0.266\n",
      "cylindernumber_four       0.2483      0.038      6.546      0.000       0.173       0.323\n",
      "cylindernumber_three      0.3322      0.050      6.643      0.000       0.233       0.431\n",
      "cylindernumber_twelve    -0.5132      0.096     -5.358      0.000      -0.703      -0.324\n",
      "cylindernumber_two        0.2726      0.033      8.202      0.000       0.207       0.338\n",
      "enginelocation_rear       0.3058      0.073      4.212      0.000       0.162       0.449\n",
      "CarName_bmw               0.2922      0.026     11.402      0.000       0.241       0.343\n",
      "CarName_peugeot          -0.2009      0.032     -6.227      0.000      -0.265      -0.137\n",
      "CarName_porsche           0.2118      0.044      4.806      0.000       0.125       0.299\n",
      "CarName_saab              0.0765      0.033      2.286      0.024       0.010       0.143\n",
      "CarName_volvo             0.0850      0.026      3.212      0.002       0.033       0.137\n",
      "==============================================================================\n",
      "Omnibus:                       22.837   Durbin-Watson:                   1.866\n",
      "Prob(Omnibus):                  0.000   Jarque-Bera (JB):               47.491\n",
      "Skew:                           0.682   Prob(JB):                     4.87e-11\n",
      "Kurtosis:                       5.472   Cond. No.                     7.30e+16\n",
      "==============================================================================\n",
      "\n",
      "Warnings:\n",
      "[1] Standard Errors assume that the covariance matrix of the errors is correctly specified.\n",
      "[2] The smallest eigenvalue is 6.92e-32. This might indicate that there are\n",
      "strong multicollinearity problems or that the design matrix is singular.\n"
     ]
    }
   ],
   "source": [
    "X_train_new = build_model(X_train_new,y_train)"
   ]
  },
  {
   "cell_type": "code",
   "execution_count": 48,
   "metadata": {},
   "outputs": [
    {
     "data": {
      "text/html": [
       "<div>\n",
       "<style scoped>\n",
       "    .dataframe tbody tr th:only-of-type {\n",
       "        vertical-align: middle;\n",
       "    }\n",
       "\n",
       "    .dataframe tbody tr th {\n",
       "        vertical-align: top;\n",
       "    }\n",
       "\n",
       "    .dataframe thead th {\n",
       "        text-align: right;\n",
       "    }\n",
       "</style>\n",
       "<table border=\"1\" class=\"dataframe\">\n",
       "  <thead>\n",
       "    <tr style=\"text-align: right;\">\n",
       "      <th></th>\n",
       "      <th>Features</th>\n",
       "      <th>VIF</th>\n",
       "    </tr>\n",
       "  </thead>\n",
       "  <tbody>\n",
       "    <tr>\n",
       "      <th>7</th>\n",
       "      <td>enginetype_rotor</td>\n",
       "      <td>inf</td>\n",
       "    </tr>\n",
       "    <tr>\n",
       "      <th>15</th>\n",
       "      <td>CarName_peugeot</td>\n",
       "      <td>inf</td>\n",
       "    </tr>\n",
       "    <tr>\n",
       "      <th>12</th>\n",
       "      <td>cylindernumber_two</td>\n",
       "      <td>inf</td>\n",
       "    </tr>\n",
       "    <tr>\n",
       "      <th>10</th>\n",
       "      <td>cylindernumber_three</td>\n",
       "      <td>inf</td>\n",
       "    </tr>\n",
       "    <tr>\n",
       "      <th>6</th>\n",
       "      <td>enginetype_l</td>\n",
       "      <td>inf</td>\n",
       "    </tr>\n",
       "    <tr>\n",
       "      <th>0</th>\n",
       "      <td>const</td>\n",
       "      <td>65.57</td>\n",
       "    </tr>\n",
       "    <tr>\n",
       "      <th>3</th>\n",
       "      <td>enginesize</td>\n",
       "      <td>31.79</td>\n",
       "    </tr>\n",
       "    <tr>\n",
       "      <th>9</th>\n",
       "      <td>cylindernumber_four</td>\n",
       "      <td>13.73</td>\n",
       "    </tr>\n",
       "    <tr>\n",
       "      <th>2</th>\n",
       "      <td>curbweight</td>\n",
       "      <td>12.49</td>\n",
       "    </tr>\n",
       "    <tr>\n",
       "      <th>1</th>\n",
       "      <td>carwidth</td>\n",
       "      <td>6.43</td>\n",
       "    </tr>\n",
       "    <tr>\n",
       "      <th>4</th>\n",
       "      <td>boreratio</td>\n",
       "      <td>6.02</td>\n",
       "    </tr>\n",
       "    <tr>\n",
       "      <th>8</th>\n",
       "      <td>cylindernumber_five</td>\n",
       "      <td>3.32</td>\n",
       "    </tr>\n",
       "    <tr>\n",
       "      <th>11</th>\n",
       "      <td>cylindernumber_twelve</td>\n",
       "      <td>3.17</td>\n",
       "    </tr>\n",
       "    <tr>\n",
       "      <th>5</th>\n",
       "      <td>stroke</td>\n",
       "      <td>2.48</td>\n",
       "    </tr>\n",
       "    <tr>\n",
       "      <th>16</th>\n",
       "      <td>CarName_porsche</td>\n",
       "      <td>1.99</td>\n",
       "    </tr>\n",
       "    <tr>\n",
       "      <th>13</th>\n",
       "      <td>enginelocation_rear</td>\n",
       "      <td>1.82</td>\n",
       "    </tr>\n",
       "    <tr>\n",
       "      <th>18</th>\n",
       "      <td>CarName_volvo</td>\n",
       "      <td>1.40</td>\n",
       "    </tr>\n",
       "    <tr>\n",
       "      <th>14</th>\n",
       "      <td>CarName_bmw</td>\n",
       "      <td>1.31</td>\n",
       "    </tr>\n",
       "    <tr>\n",
       "      <th>17</th>\n",
       "      <td>CarName_saab</td>\n",
       "      <td>1.14</td>\n",
       "    </tr>\n",
       "  </tbody>\n",
       "</table>\n",
       "</div>"
      ],
      "text/plain": [
       "                 Features    VIF\n",
       "7        enginetype_rotor    inf\n",
       "15        CarName_peugeot    inf\n",
       "12     cylindernumber_two    inf\n",
       "10   cylindernumber_three    inf\n",
       "6            enginetype_l    inf\n",
       "0                   const  65.57\n",
       "3              enginesize  31.79\n",
       "9     cylindernumber_four  13.73\n",
       "2              curbweight  12.49\n",
       "1                carwidth   6.43\n",
       "4               boreratio   6.02\n",
       "8     cylindernumber_five   3.32\n",
       "11  cylindernumber_twelve   3.17\n",
       "5                  stroke   2.48\n",
       "16        CarName_porsche   1.99\n",
       "13    enginelocation_rear   1.82\n",
       "18          CarName_volvo   1.40\n",
       "14            CarName_bmw   1.31\n",
       "17           CarName_saab   1.14"
      ]
     },
     "execution_count": 48,
     "metadata": {},
     "output_type": "execute_result"
    }
   ],
   "source": [
    "#As p-values are less than 0.05 now to check VIF \n",
    "VIF(X_train_new)"
   ]
  },
  {
   "cell_type": "code",
   "execution_count": 49,
   "metadata": {},
   "outputs": [],
   "source": [
    "#drop the higher VIF\n",
    "X_train_new = X_train_new.drop([\"enginetype_rotor\"], axis = 1)"
   ]
  },
  {
   "cell_type": "markdown",
   "metadata": {},
   "source": [
    "#### Model 4"
   ]
  },
  {
   "cell_type": "code",
   "execution_count": 50,
   "metadata": {},
   "outputs": [
    {
     "name": "stdout",
     "output_type": "stream",
     "text": [
      "                            OLS Regression Results                            \n",
      "==============================================================================\n",
      "Dep. Variable:                  price   R-squared:                       0.945\n",
      "Model:                            OLS   Adj. R-squared:                  0.938\n",
      "Method:                 Least Squares   F-statistic:                     135.8\n",
      "Date:                Mon, 26 Aug 2019   Prob (F-statistic):           2.89e-71\n",
      "Time:                        11:51:13   Log-Likelihood:                 224.57\n",
      "No. Observations:                 143   AIC:                            -415.1\n",
      "Df Residuals:                     126   BIC:                            -364.8\n",
      "Df Model:                          16                                         \n",
      "Covariance Type:            nonrobust                                         \n",
      "=========================================================================================\n",
      "                            coef    std err          t      P>|t|      [0.025      0.975]\n",
      "-----------------------------------------------------------------------------------------\n",
      "const                    -0.2706      0.036     -7.455      0.000      -0.342      -0.199\n",
      "carwidth                  0.2950      0.062      4.772      0.000       0.173       0.417\n",
      "curbweight                0.2985      0.075      3.966      0.000       0.150       0.447\n",
      "enginesize                1.4561      0.164      8.876      0.000       1.131       1.781\n",
      "boreratio                -0.4064      0.053     -7.625      0.000      -0.512      -0.301\n",
      "stroke                   -0.2777      0.045     -6.188      0.000      -0.367      -0.189\n",
      "enginetype_l              0.1313      0.024      5.395      0.000       0.083       0.179\n",
      "cylindernumber_five       0.1997      0.034      5.938      0.000       0.133       0.266\n",
      "cylindernumber_four       0.2483      0.038      6.546      0.000       0.173       0.323\n",
      "cylindernumber_three      0.3322      0.050      6.643      0.000       0.233       0.431\n",
      "cylindernumber_twelve    -0.5132      0.096     -5.358      0.000      -0.703      -0.324\n",
      "cylindernumber_two        0.5451      0.066      8.202      0.000       0.414       0.677\n",
      "enginelocation_rear       0.3058      0.073      4.212      0.000       0.162       0.449\n",
      "CarName_bmw               0.2922      0.026     11.402      0.000       0.241       0.343\n",
      "CarName_peugeot          -0.2009      0.032     -6.227      0.000      -0.265      -0.137\n",
      "CarName_porsche           0.2118      0.044      4.806      0.000       0.125       0.299\n",
      "CarName_saab              0.0765      0.033      2.286      0.024       0.010       0.143\n",
      "CarName_volvo             0.0850      0.026      3.212      0.002       0.033       0.137\n",
      "==============================================================================\n",
      "Omnibus:                       22.837   Durbin-Watson:                   1.866\n",
      "Prob(Omnibus):                  0.000   Jarque-Bera (JB):               47.491\n",
      "Skew:                           0.682   Prob(JB):                     4.87e-11\n",
      "Kurtosis:                       5.472   Cond. No.                     4.35e+16\n",
      "==============================================================================\n",
      "\n",
      "Warnings:\n",
      "[1] Standard Errors assume that the covariance matrix of the errors is correctly specified.\n",
      "[2] The smallest eigenvalue is 1.95e-31. This might indicate that there are\n",
      "strong multicollinearity problems or that the design matrix is singular.\n"
     ]
    }
   ],
   "source": [
    "X_train_new = build_model(X_train_new,y_train)"
   ]
  },
  {
   "cell_type": "code",
   "execution_count": 51,
   "metadata": {},
   "outputs": [
    {
     "data": {
      "text/html": [
       "<div>\n",
       "<style scoped>\n",
       "    .dataframe tbody tr th:only-of-type {\n",
       "        vertical-align: middle;\n",
       "    }\n",
       "\n",
       "    .dataframe tbody tr th {\n",
       "        vertical-align: top;\n",
       "    }\n",
       "\n",
       "    .dataframe thead th {\n",
       "        text-align: right;\n",
       "    }\n",
       "</style>\n",
       "<table border=\"1\" class=\"dataframe\">\n",
       "  <thead>\n",
       "    <tr style=\"text-align: right;\">\n",
       "      <th></th>\n",
       "      <th>Features</th>\n",
       "      <th>VIF</th>\n",
       "    </tr>\n",
       "  </thead>\n",
       "  <tbody>\n",
       "    <tr>\n",
       "      <th>9</th>\n",
       "      <td>cylindernumber_three</td>\n",
       "      <td>inf</td>\n",
       "    </tr>\n",
       "    <tr>\n",
       "      <th>6</th>\n",
       "      <td>enginetype_l</td>\n",
       "      <td>inf</td>\n",
       "    </tr>\n",
       "    <tr>\n",
       "      <th>14</th>\n",
       "      <td>CarName_peugeot</td>\n",
       "      <td>inf</td>\n",
       "    </tr>\n",
       "    <tr>\n",
       "      <th>0</th>\n",
       "      <td>const</td>\n",
       "      <td>65.57</td>\n",
       "    </tr>\n",
       "    <tr>\n",
       "      <th>3</th>\n",
       "      <td>enginesize</td>\n",
       "      <td>31.79</td>\n",
       "    </tr>\n",
       "    <tr>\n",
       "      <th>8</th>\n",
       "      <td>cylindernumber_four</td>\n",
       "      <td>13.73</td>\n",
       "    </tr>\n",
       "    <tr>\n",
       "      <th>2</th>\n",
       "      <td>curbweight</td>\n",
       "      <td>12.49</td>\n",
       "    </tr>\n",
       "    <tr>\n",
       "      <th>1</th>\n",
       "      <td>carwidth</td>\n",
       "      <td>6.43</td>\n",
       "    </tr>\n",
       "    <tr>\n",
       "      <th>4</th>\n",
       "      <td>boreratio</td>\n",
       "      <td>6.02</td>\n",
       "    </tr>\n",
       "    <tr>\n",
       "      <th>11</th>\n",
       "      <td>cylindernumber_two</td>\n",
       "      <td>5.98</td>\n",
       "    </tr>\n",
       "    <tr>\n",
       "      <th>7</th>\n",
       "      <td>cylindernumber_five</td>\n",
       "      <td>3.32</td>\n",
       "    </tr>\n",
       "    <tr>\n",
       "      <th>10</th>\n",
       "      <td>cylindernumber_twelve</td>\n",
       "      <td>3.17</td>\n",
       "    </tr>\n",
       "    <tr>\n",
       "      <th>5</th>\n",
       "      <td>stroke</td>\n",
       "      <td>2.48</td>\n",
       "    </tr>\n",
       "    <tr>\n",
       "      <th>15</th>\n",
       "      <td>CarName_porsche</td>\n",
       "      <td>1.99</td>\n",
       "    </tr>\n",
       "    <tr>\n",
       "      <th>12</th>\n",
       "      <td>enginelocation_rear</td>\n",
       "      <td>1.82</td>\n",
       "    </tr>\n",
       "    <tr>\n",
       "      <th>17</th>\n",
       "      <td>CarName_volvo</td>\n",
       "      <td>1.40</td>\n",
       "    </tr>\n",
       "    <tr>\n",
       "      <th>13</th>\n",
       "      <td>CarName_bmw</td>\n",
       "      <td>1.31</td>\n",
       "    </tr>\n",
       "    <tr>\n",
       "      <th>16</th>\n",
       "      <td>CarName_saab</td>\n",
       "      <td>1.14</td>\n",
       "    </tr>\n",
       "  </tbody>\n",
       "</table>\n",
       "</div>"
      ],
      "text/plain": [
       "                 Features    VIF\n",
       "9    cylindernumber_three    inf\n",
       "6            enginetype_l    inf\n",
       "14        CarName_peugeot    inf\n",
       "0                   const  65.57\n",
       "3              enginesize  31.79\n",
       "8     cylindernumber_four  13.73\n",
       "2              curbweight  12.49\n",
       "1                carwidth   6.43\n",
       "4               boreratio   6.02\n",
       "11     cylindernumber_two   5.98\n",
       "7     cylindernumber_five   3.32\n",
       "10  cylindernumber_twelve   3.17\n",
       "5                  stroke   2.48\n",
       "15        CarName_porsche   1.99\n",
       "12    enginelocation_rear   1.82\n",
       "17          CarName_volvo   1.40\n",
       "13            CarName_bmw   1.31\n",
       "16           CarName_saab   1.14"
      ]
     },
     "execution_count": 51,
     "metadata": {},
     "output_type": "execute_result"
    }
   ],
   "source": [
    "# again check for VIF as p-value is less than 0.05\n",
    "VIF(X_train_new)"
   ]
  },
  {
   "cell_type": "code",
   "execution_count": 52,
   "metadata": {},
   "outputs": [],
   "source": [
    "#drop the higher VIF\n",
    "X_train_new = X_train_new.drop([\"cylindernumber_three\"], axis = 1)"
   ]
  },
  {
   "cell_type": "markdown",
   "metadata": {},
   "source": [
    "#### Model 5"
   ]
  },
  {
   "cell_type": "code",
   "execution_count": 53,
   "metadata": {},
   "outputs": [
    {
     "name": "stdout",
     "output_type": "stream",
     "text": [
      "                            OLS Regression Results                            \n",
      "==============================================================================\n",
      "Dep. Variable:                  price   R-squared:                       0.945\n",
      "Model:                            OLS   Adj. R-squared:                  0.938\n",
      "Method:                 Least Squares   F-statistic:                     135.8\n",
      "Date:                Mon, 26 Aug 2019   Prob (F-statistic):           2.89e-71\n",
      "Time:                        11:51:13   Log-Likelihood:                 224.57\n",
      "No. Observations:                 143   AIC:                            -415.1\n",
      "Df Residuals:                     126   BIC:                            -364.8\n",
      "Df Model:                          16                                         \n",
      "Covariance Type:            nonrobust                                         \n",
      "=========================================================================================\n",
      "                            coef    std err          t      P>|t|      [0.025      0.975]\n",
      "-----------------------------------------------------------------------------------------\n",
      "const                    -0.2706      0.036     -7.455      0.000      -0.342      -0.199\n",
      "carwidth                  0.2950      0.062      4.772      0.000       0.173       0.417\n",
      "curbweight                0.2985      0.075      3.966      0.000       0.150       0.447\n",
      "enginesize                1.4561      0.164      8.876      0.000       1.131       1.781\n",
      "boreratio                -0.4064      0.053     -7.625      0.000      -0.512      -0.301\n",
      "stroke                   -0.2777      0.045     -6.188      0.000      -0.367      -0.189\n",
      "enginetype_l              0.4635      0.072      6.461      0.000       0.322       0.605\n",
      "cylindernumber_five       0.1997      0.034      5.938      0.000       0.133       0.266\n",
      "cylindernumber_four       0.2483      0.038      6.546      0.000       0.173       0.323\n",
      "cylindernumber_twelve    -0.5132      0.096     -5.358      0.000      -0.703      -0.324\n",
      "cylindernumber_two        0.5451      0.066      8.202      0.000       0.414       0.677\n",
      "enginelocation_rear       0.3058      0.073      4.212      0.000       0.162       0.449\n",
      "CarName_bmw               0.2922      0.026     11.402      0.000       0.241       0.343\n",
      "CarName_peugeot          -0.5331      0.081     -6.617      0.000      -0.693      -0.374\n",
      "CarName_porsche           0.2118      0.044      4.806      0.000       0.125       0.299\n",
      "CarName_saab              0.0765      0.033      2.286      0.024       0.010       0.143\n",
      "CarName_volvo             0.0850      0.026      3.212      0.002       0.033       0.137\n",
      "==============================================================================\n",
      "Omnibus:                       22.837   Durbin-Watson:                   1.866\n",
      "Prob(Omnibus):                  0.000   Jarque-Bera (JB):               47.491\n",
      "Skew:                           0.682   Prob(JB):                     4.87e-11\n",
      "Kurtosis:                       5.472   Cond. No.                         75.3\n",
      "==============================================================================\n",
      "\n",
      "Warnings:\n",
      "[1] Standard Errors assume that the covariance matrix of the errors is correctly specified.\n"
     ]
    }
   ],
   "source": [
    "X_train_new = build_model(X_train_new,y_train)"
   ]
  },
  {
   "cell_type": "code",
   "execution_count": 54,
   "metadata": {},
   "outputs": [
    {
     "data": {
      "text/html": [
       "<div>\n",
       "<style scoped>\n",
       "    .dataframe tbody tr th:only-of-type {\n",
       "        vertical-align: middle;\n",
       "    }\n",
       "\n",
       "    .dataframe tbody tr th {\n",
       "        vertical-align: top;\n",
       "    }\n",
       "\n",
       "    .dataframe thead th {\n",
       "        text-align: right;\n",
       "    }\n",
       "</style>\n",
       "<table border=\"1\" class=\"dataframe\">\n",
       "  <thead>\n",
       "    <tr style=\"text-align: right;\">\n",
       "      <th></th>\n",
       "      <th>Features</th>\n",
       "      <th>VIF</th>\n",
       "    </tr>\n",
       "  </thead>\n",
       "  <tbody>\n",
       "    <tr>\n",
       "      <th>0</th>\n",
       "      <td>const</td>\n",
       "      <td>65.57</td>\n",
       "    </tr>\n",
       "    <tr>\n",
       "      <th>3</th>\n",
       "      <td>enginesize</td>\n",
       "      <td>31.79</td>\n",
       "    </tr>\n",
       "    <tr>\n",
       "      <th>13</th>\n",
       "      <td>CarName_peugeot</td>\n",
       "      <td>17.06</td>\n",
       "    </tr>\n",
       "    <tr>\n",
       "      <th>6</th>\n",
       "      <td>enginetype_l</td>\n",
       "      <td>15.10</td>\n",
       "    </tr>\n",
       "    <tr>\n",
       "      <th>8</th>\n",
       "      <td>cylindernumber_four</td>\n",
       "      <td>13.73</td>\n",
       "    </tr>\n",
       "    <tr>\n",
       "      <th>2</th>\n",
       "      <td>curbweight</td>\n",
       "      <td>12.49</td>\n",
       "    </tr>\n",
       "    <tr>\n",
       "      <th>1</th>\n",
       "      <td>carwidth</td>\n",
       "      <td>6.43</td>\n",
       "    </tr>\n",
       "    <tr>\n",
       "      <th>4</th>\n",
       "      <td>boreratio</td>\n",
       "      <td>6.02</td>\n",
       "    </tr>\n",
       "    <tr>\n",
       "      <th>10</th>\n",
       "      <td>cylindernumber_two</td>\n",
       "      <td>5.98</td>\n",
       "    </tr>\n",
       "    <tr>\n",
       "      <th>7</th>\n",
       "      <td>cylindernumber_five</td>\n",
       "      <td>3.32</td>\n",
       "    </tr>\n",
       "    <tr>\n",
       "      <th>9</th>\n",
       "      <td>cylindernumber_twelve</td>\n",
       "      <td>3.17</td>\n",
       "    </tr>\n",
       "    <tr>\n",
       "      <th>5</th>\n",
       "      <td>stroke</td>\n",
       "      <td>2.48</td>\n",
       "    </tr>\n",
       "    <tr>\n",
       "      <th>14</th>\n",
       "      <td>CarName_porsche</td>\n",
       "      <td>1.99</td>\n",
       "    </tr>\n",
       "    <tr>\n",
       "      <th>11</th>\n",
       "      <td>enginelocation_rear</td>\n",
       "      <td>1.82</td>\n",
       "    </tr>\n",
       "    <tr>\n",
       "      <th>16</th>\n",
       "      <td>CarName_volvo</td>\n",
       "      <td>1.40</td>\n",
       "    </tr>\n",
       "    <tr>\n",
       "      <th>12</th>\n",
       "      <td>CarName_bmw</td>\n",
       "      <td>1.31</td>\n",
       "    </tr>\n",
       "    <tr>\n",
       "      <th>15</th>\n",
       "      <td>CarName_saab</td>\n",
       "      <td>1.14</td>\n",
       "    </tr>\n",
       "  </tbody>\n",
       "</table>\n",
       "</div>"
      ],
      "text/plain": [
       "                 Features    VIF\n",
       "0                   const  65.57\n",
       "3              enginesize  31.79\n",
       "13        CarName_peugeot  17.06\n",
       "6            enginetype_l  15.10\n",
       "8     cylindernumber_four  13.73\n",
       "2              curbweight  12.49\n",
       "1                carwidth   6.43\n",
       "4               boreratio   6.02\n",
       "10     cylindernumber_two   5.98\n",
       "7     cylindernumber_five   3.32\n",
       "9   cylindernumber_twelve   3.17\n",
       "5                  stroke   2.48\n",
       "14        CarName_porsche   1.99\n",
       "11    enginelocation_rear   1.82\n",
       "16          CarName_volvo   1.40\n",
       "12            CarName_bmw   1.31\n",
       "15           CarName_saab   1.14"
      ]
     },
     "execution_count": 54,
     "metadata": {},
     "output_type": "execute_result"
    }
   ],
   "source": [
    "# check for VIF\n",
    "VIF(X_train_new)"
   ]
  },
  {
   "cell_type": "code",
   "execution_count": 55,
   "metadata": {},
   "outputs": [],
   "source": [
    "#drop higher VIF\n",
    "X_train_new = X_train_new.drop([\"enginesize\"], axis = 1)"
   ]
  },
  {
   "cell_type": "markdown",
   "metadata": {},
   "source": [
    "#### Model 6"
   ]
  },
  {
   "cell_type": "code",
   "execution_count": 56,
   "metadata": {},
   "outputs": [
    {
     "name": "stdout",
     "output_type": "stream",
     "text": [
      "                            OLS Regression Results                            \n",
      "==============================================================================\n",
      "Dep. Variable:                  price   R-squared:                       0.911\n",
      "Model:                            OLS   Adj. R-squared:                  0.900\n",
      "Method:                 Least Squares   F-statistic:                     86.57\n",
      "Date:                Mon, 26 Aug 2019   Prob (F-statistic):           4.59e-59\n",
      "Time:                        11:51:13   Log-Likelihood:                 189.84\n",
      "No. Observations:                 143   AIC:                            -347.7\n",
      "Df Residuals:                     127   BIC:                            -300.3\n",
      "Df Model:                          15                                         \n",
      "Covariance Type:            nonrobust                                         \n",
      "=========================================================================================\n",
      "                            coef    std err          t      P>|t|      [0.025      0.975]\n",
      "-----------------------------------------------------------------------------------------\n",
      "const                    -0.1607      0.043     -3.709      0.000      -0.246      -0.075\n",
      "carwidth                  0.3733      0.078      4.804      0.000       0.220       0.527\n",
      "curbweight                0.6350      0.083      7.693      0.000       0.472       0.798\n",
      "boreratio                -0.0905      0.050     -1.796      0.075      -0.190       0.009\n",
      "stroke                   -0.0250      0.044     -0.566      0.572      -0.112       0.062\n",
      "enginetype_l              0.1887      0.082      2.296      0.023       0.026       0.351\n",
      "cylindernumber_five      -0.0099      0.030     -0.325      0.746      -0.070       0.050\n",
      "cylindernumber_four      -0.0080      0.031     -0.257      0.798      -0.070       0.054\n",
      "cylindernumber_twelve     0.1559      0.075      2.078      0.040       0.007       0.304\n",
      "cylindernumber_two        0.0437      0.044      0.983      0.328      -0.044       0.132\n",
      "enginelocation_rear       0.4239      0.091      4.677      0.000       0.245       0.603\n",
      "CarName_bmw               0.2675      0.032      8.269      0.000       0.203       0.332\n",
      "CarName_peugeot          -0.3340      0.098     -3.399      0.001      -0.528      -0.140\n",
      "CarName_porsche           0.1620      0.056      2.918      0.004       0.052       0.272\n",
      "CarName_saab              0.0188      0.042      0.451      0.653      -0.064       0.101\n",
      "CarName_volvo             0.0035      0.032      0.111      0.912      -0.059       0.066\n",
      "==============================================================================\n",
      "Omnibus:                       22.459   Durbin-Watson:                   2.034\n",
      "Prob(Omnibus):                  0.000   Jarque-Bera (JB):               47.476\n",
      "Skew:                           0.663   Prob(JB):                     4.91e-11\n",
      "Kurtosis:                       5.492   Cond. No.                         40.1\n",
      "==============================================================================\n",
      "\n",
      "Warnings:\n",
      "[1] Standard Errors assume that the covariance matrix of the errors is correctly specified.\n"
     ]
    }
   ],
   "source": [
    "X_train_new = build_model(X_train_new,y_train)"
   ]
  },
  {
   "cell_type": "code",
   "execution_count": 57,
   "metadata": {},
   "outputs": [],
   "source": [
    "#drop high p-value\n",
    "X_train_new = X_train_new.drop([\"CarName_volvo\"], axis = 1)"
   ]
  },
  {
   "cell_type": "markdown",
   "metadata": {},
   "source": [
    "#### Model 7"
   ]
  },
  {
   "cell_type": "code",
   "execution_count": 58,
   "metadata": {},
   "outputs": [
    {
     "name": "stdout",
     "output_type": "stream",
     "text": [
      "                            OLS Regression Results                            \n",
      "==============================================================================\n",
      "Dep. Variable:                  price   R-squared:                       0.911\n",
      "Model:                            OLS   Adj. R-squared:                  0.901\n",
      "Method:                 Least Squares   F-statistic:                     93.47\n",
      "Date:                Mon, 26 Aug 2019   Prob (F-statistic):           4.68e-60\n",
      "Time:                        11:51:13   Log-Likelihood:                 189.84\n",
      "No. Observations:                 143   AIC:                            -349.7\n",
      "Df Residuals:                     128   BIC:                            -305.2\n",
      "Df Model:                          14                                         \n",
      "Covariance Type:            nonrobust                                         \n",
      "=========================================================================================\n",
      "                            coef    std err          t      P>|t|      [0.025      0.975]\n",
      "-----------------------------------------------------------------------------------------\n",
      "const                    -0.1614      0.043     -3.786      0.000      -0.246      -0.077\n",
      "carwidth                  0.3750      0.076      4.946      0.000       0.225       0.525\n",
      "curbweight                0.6358      0.082      7.758      0.000       0.474       0.798\n",
      "boreratio                -0.0904      0.050     -1.801      0.074      -0.190       0.009\n",
      "stroke                   -0.0258      0.043     -0.596      0.552      -0.111       0.060\n",
      "enginetype_l              0.1898      0.081      2.335      0.021       0.029       0.351\n",
      "cylindernumber_five      -0.0104      0.030     -0.347      0.729      -0.070       0.049\n",
      "cylindernumber_four      -0.0076      0.031     -0.246      0.806      -0.069       0.054\n",
      "cylindernumber_twelve     0.1546      0.074      2.094      0.038       0.009       0.301\n",
      "cylindernumber_two        0.0438      0.044      0.989      0.325      -0.044       0.131\n",
      "enginelocation_rear       0.4249      0.090      4.729      0.000       0.247       0.603\n",
      "CarName_bmw               0.2672      0.032      8.323      0.000       0.204       0.331\n",
      "CarName_peugeot          -0.3361      0.096     -3.497      0.001      -0.526      -0.146\n",
      "CarName_porsche           0.1609      0.054      2.956      0.004       0.053       0.269\n",
      "CarName_saab              0.0181      0.041      0.441      0.660      -0.063       0.100\n",
      "==============================================================================\n",
      "Omnibus:                       22.127   Durbin-Watson:                   2.031\n",
      "Prob(Omnibus):                  0.000   Jarque-Bera (JB):               46.535\n",
      "Skew:                           0.655   Prob(JB):                     7.85e-11\n",
      "Kurtosis:                       5.469   Cond. No.                         39.2\n",
      "==============================================================================\n",
      "\n",
      "Warnings:\n",
      "[1] Standard Errors assume that the covariance matrix of the errors is correctly specified.\n"
     ]
    }
   ],
   "source": [
    "X_train_new = build_model(X_train_new,y_train)"
   ]
  },
  {
   "cell_type": "code",
   "execution_count": 59,
   "metadata": {},
   "outputs": [],
   "source": [
    "# drop high p-value\n",
    "X_train_new = X_train_new.drop([\"cylindernumber_four\"], axis = 1)"
   ]
  },
  {
   "cell_type": "markdown",
   "metadata": {},
   "source": [
    "#### Model 8"
   ]
  },
  {
   "cell_type": "code",
   "execution_count": 60,
   "metadata": {},
   "outputs": [
    {
     "name": "stdout",
     "output_type": "stream",
     "text": [
      "                            OLS Regression Results                            \n",
      "==============================================================================\n",
      "Dep. Variable:                  price   R-squared:                       0.911\n",
      "Model:                            OLS   Adj. R-squared:                  0.902\n",
      "Method:                 Least Squares   F-statistic:                     101.4\n",
      "Date:                Mon, 26 Aug 2019   Prob (F-statistic):           4.69e-61\n",
      "Time:                        11:51:13   Log-Likelihood:                 189.80\n",
      "No. Observations:                 143   AIC:                            -351.6\n",
      "Df Residuals:                     129   BIC:                            -310.1\n",
      "Df Model:                          13                                         \n",
      "Covariance Type:            nonrobust                                         \n",
      "=========================================================================================\n",
      "                            coef    std err          t      P>|t|      [0.025      0.975]\n",
      "-----------------------------------------------------------------------------------------\n",
      "const                    -0.1691      0.029     -5.834      0.000      -0.226      -0.112\n",
      "carwidth                  0.3779      0.075      5.065      0.000       0.230       0.526\n",
      "curbweight                0.6484      0.064     10.201      0.000       0.523       0.774\n",
      "boreratio                -0.0971      0.042     -2.325      0.022      -0.180      -0.014\n",
      "stroke                   -0.0285      0.042     -0.684      0.495      -0.111       0.054\n",
      "enginetype_l              0.1998      0.070      2.855      0.005       0.061       0.338\n",
      "cylindernumber_five      -0.0077      0.028     -0.278      0.781      -0.063       0.047\n",
      "cylindernumber_twelve     0.1531      0.073      2.089      0.039       0.008       0.298\n",
      "cylindernumber_two        0.0506      0.035      1.463      0.146      -0.018       0.119\n",
      "enginelocation_rear       0.4301      0.087      4.948      0.000       0.258       0.602\n",
      "CarName_bmw               0.2703      0.029      9.168      0.000       0.212       0.329\n",
      "CarName_peugeot          -0.3502      0.077     -4.563      0.000      -0.502      -0.198\n",
      "CarName_porsche           0.1626      0.054      3.022      0.003       0.056       0.269\n",
      "CarName_saab              0.0163      0.040      0.405      0.686      -0.063       0.096\n",
      "==============================================================================\n",
      "Omnibus:                       22.116   Durbin-Watson:                   2.023\n",
      "Prob(Omnibus):                  0.000   Jarque-Bera (JB):               47.241\n",
      "Skew:                           0.648   Prob(JB):                     5.52e-11\n",
      "Kurtosis:                       5.500   Cond. No.                         27.9\n",
      "==============================================================================\n",
      "\n",
      "Warnings:\n",
      "[1] Standard Errors assume that the covariance matrix of the errors is correctly specified.\n"
     ]
    }
   ],
   "source": [
    "X_train_new = build_model(X_train_new,y_train)"
   ]
  },
  {
   "cell_type": "code",
   "execution_count": 61,
   "metadata": {},
   "outputs": [],
   "source": [
    "#drop high p-value\n",
    "X_train_new = X_train_new.drop([\"cylindernumber_five\"], axis = 1)"
   ]
  },
  {
   "cell_type": "markdown",
   "metadata": {},
   "source": [
    "#### Model 9"
   ]
  },
  {
   "cell_type": "code",
   "execution_count": 62,
   "metadata": {},
   "outputs": [
    {
     "name": "stdout",
     "output_type": "stream",
     "text": [
      "                            OLS Regression Results                            \n",
      "==============================================================================\n",
      "Dep. Variable:                  price   R-squared:                       0.911\n",
      "Model:                            OLS   Adj. R-squared:                  0.903\n",
      "Method:                 Least Squares   F-statistic:                     110.6\n",
      "Date:                Mon, 26 Aug 2019   Prob (F-statistic):           4.52e-62\n",
      "Time:                        11:51:13   Log-Likelihood:                 189.76\n",
      "No. Observations:                 143   AIC:                            -353.5\n",
      "Df Residuals:                     130   BIC:                            -315.0\n",
      "Df Model:                          12                                         \n",
      "Covariance Type:            nonrobust                                         \n",
      "=========================================================================================\n",
      "                            coef    std err          t      P>|t|      [0.025      0.975]\n",
      "-----------------------------------------------------------------------------------------\n",
      "const                    -0.1679      0.029     -5.876      0.000      -0.224      -0.111\n",
      "carwidth                  0.3698      0.068      5.404      0.000       0.234       0.505\n",
      "curbweight                0.6494      0.063     10.267      0.000       0.524       0.775\n",
      "boreratio                -0.0946      0.041     -2.328      0.021      -0.175      -0.014\n",
      "stroke                   -0.0280      0.041     -0.675      0.501      -0.110       0.054\n",
      "enginetype_l              0.1980      0.069      2.851      0.005       0.061       0.335\n",
      "cylindernumber_twelve     0.1562      0.072      2.162      0.032       0.013       0.299\n",
      "cylindernumber_two        0.0511      0.034      1.488      0.139      -0.017       0.119\n",
      "enginelocation_rear       0.4271      0.086      4.970      0.000       0.257       0.597\n",
      "CarName_bmw               0.2711      0.029      9.276      0.000       0.213       0.329\n",
      "CarName_peugeot          -0.3468      0.076     -4.593      0.000      -0.496      -0.197\n",
      "CarName_porsche           0.1649      0.053      3.111      0.002       0.060       0.270\n",
      "CarName_saab              0.0169      0.040      0.423      0.673      -0.062       0.096\n",
      "==============================================================================\n",
      "Omnibus:                       22.847   Durbin-Watson:                   2.026\n",
      "Prob(Omnibus):                  0.000   Jarque-Bera (JB):               49.654\n",
      "Skew:                           0.664   Prob(JB):                     1.65e-11\n",
      "Kurtosis:                       5.563   Cond. No.                         26.8\n",
      "==============================================================================\n",
      "\n",
      "Warnings:\n",
      "[1] Standard Errors assume that the covariance matrix of the errors is correctly specified.\n"
     ]
    }
   ],
   "source": [
    "X_train_new = build_model(X_train_new,y_train)"
   ]
  },
  {
   "cell_type": "code",
   "execution_count": 63,
   "metadata": {},
   "outputs": [],
   "source": [
    "#drop high p-value\n",
    "X_train_new = X_train_new.drop([\"CarName_saab\"], axis = 1)"
   ]
  },
  {
   "cell_type": "markdown",
   "metadata": {},
   "source": [
    "#### Model 10"
   ]
  },
  {
   "cell_type": "code",
   "execution_count": 64,
   "metadata": {},
   "outputs": [
    {
     "name": "stdout",
     "output_type": "stream",
     "text": [
      "                            OLS Regression Results                            \n",
      "==============================================================================\n",
      "Dep. Variable:                  price   R-squared:                       0.911\n",
      "Model:                            OLS   Adj. R-squared:                  0.903\n",
      "Method:                 Least Squares   F-statistic:                     121.4\n",
      "Date:                Mon, 26 Aug 2019   Prob (F-statistic):           4.37e-63\n",
      "Time:                        11:51:14   Log-Likelihood:                 189.66\n",
      "No. Observations:                 143   AIC:                            -355.3\n",
      "Df Residuals:                     131   BIC:                            -319.8\n",
      "Df Model:                          11                                         \n",
      "Covariance Type:            nonrobust                                         \n",
      "=========================================================================================\n",
      "                            coef    std err          t      P>|t|      [0.025      0.975]\n",
      "-----------------------------------------------------------------------------------------\n",
      "const                    -0.1678      0.028     -5.892      0.000      -0.224      -0.111\n",
      "carwidth                  0.3696      0.068      5.419      0.000       0.235       0.505\n",
      "curbweight                0.6499      0.063     10.310      0.000       0.525       0.775\n",
      "boreratio                -0.0927      0.040     -2.302      0.023      -0.172      -0.013\n",
      "stroke                   -0.0293      0.041     -0.711      0.478      -0.111       0.052\n",
      "enginetype_l              0.1981      0.069      2.862      0.005       0.061       0.335\n",
      "cylindernumber_twelve     0.1547      0.072      2.151      0.033       0.012       0.297\n",
      "cylindernumber_two        0.0506      0.034      1.479      0.142      -0.017       0.118\n",
      "enginelocation_rear       0.4273      0.086      4.988      0.000       0.258       0.597\n",
      "CarName_bmw               0.2702      0.029      9.298      0.000       0.213       0.328\n",
      "CarName_peugeot          -0.3480      0.075     -4.627      0.000      -0.497      -0.199\n",
      "CarName_porsche           0.1633      0.053      3.098      0.002       0.059       0.268\n",
      "==============================================================================\n",
      "Omnibus:                       22.405   Durbin-Watson:                   2.026\n",
      "Prob(Omnibus):                  0.000   Jarque-Bera (JB):               48.286\n",
      "Skew:                           0.654   Prob(JB):                     3.27e-11\n",
      "Kurtosis:                       5.529   Cond. No.                         26.8\n",
      "==============================================================================\n",
      "\n",
      "Warnings:\n",
      "[1] Standard Errors assume that the covariance matrix of the errors is correctly specified.\n"
     ]
    }
   ],
   "source": [
    "X_train_new = build_model(X_train_new,y_train)"
   ]
  },
  {
   "cell_type": "code",
   "execution_count": 65,
   "metadata": {},
   "outputs": [],
   "source": [
    "X_train_new = X_train_new.drop([\"stroke\"], axis = 1)"
   ]
  },
  {
   "cell_type": "markdown",
   "metadata": {},
   "source": [
    "#### Model 11"
   ]
  },
  {
   "cell_type": "code",
   "execution_count": 66,
   "metadata": {},
   "outputs": [
    {
     "name": "stdout",
     "output_type": "stream",
     "text": [
      "                            OLS Regression Results                            \n",
      "==============================================================================\n",
      "Dep. Variable:                  price   R-squared:                       0.910\n",
      "Model:                            OLS   Adj. R-squared:                  0.904\n",
      "Method:                 Least Squares   F-statistic:                     134.0\n",
      "Date:                Mon, 26 Aug 2019   Prob (F-statistic):           4.72e-64\n",
      "Time:                        11:51:14   Log-Likelihood:                 189.39\n",
      "No. Observations:                 143   AIC:                            -356.8\n",
      "Df Residuals:                     132   BIC:                            -324.2\n",
      "Df Model:                          10                                         \n",
      "Covariance Type:            nonrobust                                         \n",
      "=========================================================================================\n",
      "                            coef    std err          t      P>|t|      [0.025      0.975]\n",
      "-----------------------------------------------------------------------------------------\n",
      "const                    -0.1828      0.019     -9.527      0.000      -0.221      -0.145\n",
      "carwidth                  0.3631      0.067      5.382      0.000       0.230       0.497\n",
      "curbweight                0.6418      0.062     10.374      0.000       0.519       0.764\n",
      "boreratio                -0.0820      0.037     -2.199      0.030      -0.156      -0.008\n",
      "enginetype_l              0.1987      0.069      2.875      0.005       0.062       0.335\n",
      "cylindernumber_twelve     0.1673      0.070      2.405      0.018       0.030       0.305\n",
      "cylindernumber_two        0.0502      0.034      1.468      0.145      -0.017       0.118\n",
      "enginelocation_rear       0.4282      0.085      5.008      0.000       0.259       0.597\n",
      "CarName_bmw               0.2720      0.029      9.413      0.000       0.215       0.329\n",
      "CarName_peugeot          -0.3469      0.075     -4.622      0.000      -0.495      -0.198\n",
      "CarName_porsche           0.1644      0.053      3.126      0.002       0.060       0.268\n",
      "==============================================================================\n",
      "Omnibus:                       22.096   Durbin-Watson:                   1.985\n",
      "Prob(Omnibus):                  0.000   Jarque-Bera (JB):               45.356\n",
      "Skew:                           0.664   Prob(JB):                     1.42e-10\n",
      "Kurtosis:                       5.419   Cond. No.                         24.8\n",
      "==============================================================================\n",
      "\n",
      "Warnings:\n",
      "[1] Standard Errors assume that the covariance matrix of the errors is correctly specified.\n"
     ]
    }
   ],
   "source": [
    "X_train_new = build_model(X_train_new,y_train)"
   ]
  },
  {
   "cell_type": "code",
   "execution_count": 67,
   "metadata": {},
   "outputs": [],
   "source": [
    "#drop high p-value\n",
    "X_train_new = X_train_new.drop([\"cylindernumber_two\"], axis = 1)"
   ]
  },
  {
   "cell_type": "markdown",
   "metadata": {},
   "source": [
    "#### Model 12"
   ]
  },
  {
   "cell_type": "code",
   "execution_count": 68,
   "metadata": {},
   "outputs": [
    {
     "name": "stdout",
     "output_type": "stream",
     "text": [
      "                            OLS Regression Results                            \n",
      "==============================================================================\n",
      "Dep. Variable:                  price   R-squared:                       0.909\n",
      "Model:                            OLS   Adj. R-squared:                  0.903\n",
      "Method:                 Least Squares   F-statistic:                     147.4\n",
      "Date:                Mon, 26 Aug 2019   Prob (F-statistic):           1.09e-64\n",
      "Time:                        11:51:14   Log-Likelihood:                 188.23\n",
      "No. Observations:                 143   AIC:                            -356.5\n",
      "Df Residuals:                     133   BIC:                            -326.8\n",
      "Df Model:                           9                                         \n",
      "Covariance Type:            nonrobust                                         \n",
      "=========================================================================================\n",
      "                            coef    std err          t      P>|t|      [0.025      0.975]\n",
      "-----------------------------------------------------------------------------------------\n",
      "const                    -0.1826      0.019     -9.475      0.000      -0.221      -0.144\n",
      "carwidth                  0.3680      0.068      5.437      0.000       0.234       0.502\n",
      "curbweight                0.6354      0.062     10.252      0.000       0.513       0.758\n",
      "boreratio                -0.0785      0.037     -2.099      0.038      -0.152      -0.005\n",
      "enginetype_l              0.1978      0.069      2.851      0.005       0.061       0.335\n",
      "cylindernumber_twelve     0.1666      0.070      2.384      0.019       0.028       0.305\n",
      "enginelocation_rear       0.4301      0.086      5.010      0.000       0.260       0.600\n",
      "CarName_bmw               0.2707      0.029      9.332      0.000       0.213       0.328\n",
      "CarName_peugeot          -0.3478      0.075     -4.614      0.000      -0.497      -0.199\n",
      "CarName_porsche           0.1605      0.053      3.043      0.003       0.056       0.265\n",
      "==============================================================================\n",
      "Omnibus:                       20.602   Durbin-Watson:                   1.978\n",
      "Prob(Omnibus):                  0.000   Jarque-Bera (JB):               39.955\n",
      "Skew:                           0.639   Prob(JB):                     2.11e-09\n",
      "Kurtosis:                       5.253   Cond. No.                         24.8\n",
      "==============================================================================\n",
      "\n",
      "Warnings:\n",
      "[1] Standard Errors assume that the covariance matrix of the errors is correctly specified.\n"
     ]
    }
   ],
   "source": [
    "X_train_new = build_model(X_train_new,y_train)"
   ]
  },
  {
   "cell_type": "code",
   "execution_count": 69,
   "metadata": {},
   "outputs": [
    {
     "data": {
      "text/html": [
       "<div>\n",
       "<style scoped>\n",
       "    .dataframe tbody tr th:only-of-type {\n",
       "        vertical-align: middle;\n",
       "    }\n",
       "\n",
       "    .dataframe tbody tr th {\n",
       "        vertical-align: top;\n",
       "    }\n",
       "\n",
       "    .dataframe thead th {\n",
       "        text-align: right;\n",
       "    }\n",
       "</style>\n",
       "<table border=\"1\" class=\"dataframe\">\n",
       "  <thead>\n",
       "    <tr style=\"text-align: right;\">\n",
       "      <th></th>\n",
       "      <th>Features</th>\n",
       "      <th>VIF</th>\n",
       "    </tr>\n",
       "  </thead>\n",
       "  <tbody>\n",
       "    <tr>\n",
       "      <th>0</th>\n",
       "      <td>const</td>\n",
       "      <td>11.73</td>\n",
       "    </tr>\n",
       "    <tr>\n",
       "      <th>8</th>\n",
       "      <td>CarName_peugeot</td>\n",
       "      <td>9.48</td>\n",
       "    </tr>\n",
       "    <tr>\n",
       "      <th>4</th>\n",
       "      <td>enginetype_l</td>\n",
       "      <td>8.97</td>\n",
       "    </tr>\n",
       "    <tr>\n",
       "      <th>2</th>\n",
       "      <td>curbweight</td>\n",
       "      <td>5.38</td>\n",
       "    </tr>\n",
       "    <tr>\n",
       "      <th>1</th>\n",
       "      <td>carwidth</td>\n",
       "      <td>4.89</td>\n",
       "    </tr>\n",
       "    <tr>\n",
       "      <th>3</th>\n",
       "      <td>boreratio</td>\n",
       "      <td>1.88</td>\n",
       "    </tr>\n",
       "    <tr>\n",
       "      <th>9</th>\n",
       "      <td>CarName_porsche</td>\n",
       "      <td>1.80</td>\n",
       "    </tr>\n",
       "    <tr>\n",
       "      <th>6</th>\n",
       "      <td>enginelocation_rear</td>\n",
       "      <td>1.62</td>\n",
       "    </tr>\n",
       "    <tr>\n",
       "      <th>5</th>\n",
       "      <td>cylindernumber_twelve</td>\n",
       "      <td>1.07</td>\n",
       "    </tr>\n",
       "    <tr>\n",
       "      <th>7</th>\n",
       "      <td>CarName_bmw</td>\n",
       "      <td>1.07</td>\n",
       "    </tr>\n",
       "  </tbody>\n",
       "</table>\n",
       "</div>"
      ],
      "text/plain": [
       "                Features    VIF\n",
       "0                  const  11.73\n",
       "8        CarName_peugeot   9.48\n",
       "4           enginetype_l   8.97\n",
       "2             curbweight   5.38\n",
       "1               carwidth   4.89\n",
       "3              boreratio   1.88\n",
       "9        CarName_porsche   1.80\n",
       "6    enginelocation_rear   1.62\n",
       "5  cylindernumber_twelve   1.07\n",
       "7            CarName_bmw   1.07"
      ]
     },
     "execution_count": 69,
     "metadata": {},
     "output_type": "execute_result"
    }
   ],
   "source": [
    "#check for VIF as p-value is less than 0.05\n",
    "VIF(X_train_new)"
   ]
  },
  {
   "cell_type": "code",
   "execution_count": 70,
   "metadata": {},
   "outputs": [],
   "source": [
    "#drop higher VIF\n",
    "X_train_new = X_train_new.drop([\"CarName_peugeot\"], axis = 1)"
   ]
  },
  {
   "cell_type": "markdown",
   "metadata": {},
   "source": [
    "#### Model 13"
   ]
  },
  {
   "cell_type": "code",
   "execution_count": 71,
   "metadata": {},
   "outputs": [
    {
     "name": "stdout",
     "output_type": "stream",
     "text": [
      "                            OLS Regression Results                            \n",
      "==============================================================================\n",
      "Dep. Variable:                  price   R-squared:                       0.894\n",
      "Model:                            OLS   Adj. R-squared:                  0.888\n",
      "Method:                 Least Squares   F-statistic:                     141.7\n",
      "Date:                Mon, 26 Aug 2019   Prob (F-statistic):           1.63e-61\n",
      "Time:                        11:51:14   Log-Likelihood:                 177.61\n",
      "No. Observations:                 143   AIC:                            -337.2\n",
      "Df Residuals:                     134   BIC:                            -310.6\n",
      "Df Model:                           8                                         \n",
      "Covariance Type:            nonrobust                                         \n",
      "=========================================================================================\n",
      "                            coef    std err          t      P>|t|      [0.025      0.975]\n",
      "-----------------------------------------------------------------------------------------\n",
      "const                    -0.1571      0.020     -7.930      0.000      -0.196      -0.118\n",
      "carwidth                  0.3213      0.072      4.474      0.000       0.179       0.463\n",
      "curbweight                0.6401      0.067      9.625      0.000       0.509       0.772\n",
      "boreratio                -0.0928      0.040     -2.321      0.022      -0.172      -0.014\n",
      "enginetype_l             -0.1021      0.026     -3.918      0.000      -0.154      -0.051\n",
      "cylindernumber_twelve     0.1865      0.075      2.492      0.014       0.038       0.335\n",
      "enginelocation_rear       0.4078      0.092      4.434      0.000       0.226       0.590\n",
      "CarName_bmw               0.2761      0.031      8.876      0.000       0.215       0.338\n",
      "CarName_porsche           0.1853      0.056      3.293      0.001       0.074       0.297\n",
      "==============================================================================\n",
      "Omnibus:                       36.411   Durbin-Watson:                   1.984\n",
      "Prob(Omnibus):                  0.000   Jarque-Bera (JB):               88.195\n",
      "Skew:                           1.029   Prob(JB):                     7.06e-20\n",
      "Kurtosis:                       6.251   Cond. No.                         23.5\n",
      "==============================================================================\n",
      "\n",
      "Warnings:\n",
      "[1] Standard Errors assume that the covariance matrix of the errors is correctly specified.\n"
     ]
    }
   ],
   "source": [
    "X_train_new = build_model(X_train_new,y_train)"
   ]
  },
  {
   "cell_type": "code",
   "execution_count": 72,
   "metadata": {},
   "outputs": [
    {
     "data": {
      "text/html": [
       "<div>\n",
       "<style scoped>\n",
       "    .dataframe tbody tr th:only-of-type {\n",
       "        vertical-align: middle;\n",
       "    }\n",
       "\n",
       "    .dataframe tbody tr th {\n",
       "        vertical-align: top;\n",
       "    }\n",
       "\n",
       "    .dataframe thead th {\n",
       "        text-align: right;\n",
       "    }\n",
       "</style>\n",
       "<table border=\"1\" class=\"dataframe\">\n",
       "  <thead>\n",
       "    <tr style=\"text-align: right;\">\n",
       "      <th></th>\n",
       "      <th>Features</th>\n",
       "      <th>VIF</th>\n",
       "    </tr>\n",
       "  </thead>\n",
       "  <tbody>\n",
       "    <tr>\n",
       "      <th>0</th>\n",
       "      <td>const</td>\n",
       "      <td>10.77</td>\n",
       "    </tr>\n",
       "    <tr>\n",
       "      <th>2</th>\n",
       "      <td>curbweight</td>\n",
       "      <td>5.38</td>\n",
       "    </tr>\n",
       "    <tr>\n",
       "      <th>1</th>\n",
       "      <td>carwidth</td>\n",
       "      <td>4.78</td>\n",
       "    </tr>\n",
       "    <tr>\n",
       "      <th>3</th>\n",
       "      <td>boreratio</td>\n",
       "      <td>1.87</td>\n",
       "    </tr>\n",
       "    <tr>\n",
       "      <th>8</th>\n",
       "      <td>CarName_porsche</td>\n",
       "      <td>1.79</td>\n",
       "    </tr>\n",
       "    <tr>\n",
       "      <th>6</th>\n",
       "      <td>enginelocation_rear</td>\n",
       "      <td>1.61</td>\n",
       "    </tr>\n",
       "    <tr>\n",
       "      <th>4</th>\n",
       "      <td>enginetype_l</td>\n",
       "      <td>1.10</td>\n",
       "    </tr>\n",
       "    <tr>\n",
       "      <th>5</th>\n",
       "      <td>cylindernumber_twelve</td>\n",
       "      <td>1.07</td>\n",
       "    </tr>\n",
       "    <tr>\n",
       "      <th>7</th>\n",
       "      <td>CarName_bmw</td>\n",
       "      <td>1.07</td>\n",
       "    </tr>\n",
       "  </tbody>\n",
       "</table>\n",
       "</div>"
      ],
      "text/plain": [
       "                Features    VIF\n",
       "0                  const  10.77\n",
       "2             curbweight   5.38\n",
       "1               carwidth   4.78\n",
       "3              boreratio   1.87\n",
       "8        CarName_porsche   1.79\n",
       "6    enginelocation_rear   1.61\n",
       "4           enginetype_l   1.10\n",
       "5  cylindernumber_twelve   1.07\n",
       "7            CarName_bmw   1.07"
      ]
     },
     "execution_count": 72,
     "metadata": {},
     "output_type": "execute_result"
    }
   ],
   "source": [
    "#check for VIF\n",
    "VIF(X_train_new)"
   ]
  },
  {
   "cell_type": "code",
   "execution_count": 73,
   "metadata": {},
   "outputs": [],
   "source": [
    "#drop higher VIF\n",
    "X_train_new = X_train_new.drop([\"curbweight\"], axis = 1)"
   ]
  },
  {
   "cell_type": "markdown",
   "metadata": {},
   "source": [
    "#### Model 14"
   ]
  },
  {
   "cell_type": "code",
   "execution_count": 74,
   "metadata": {},
   "outputs": [
    {
     "name": "stdout",
     "output_type": "stream",
     "text": [
      "                            OLS Regression Results                            \n",
      "==============================================================================\n",
      "Dep. Variable:                  price   R-squared:                       0.821\n",
      "Model:                            OLS   Adj. R-squared:                  0.812\n",
      "Method:                 Least Squares   F-statistic:                     88.57\n",
      "Date:                Mon, 26 Aug 2019   Prob (F-statistic):           2.54e-47\n",
      "Time:                        11:51:14   Log-Likelihood:                 140.03\n",
      "No. Observations:                 143   AIC:                            -264.1\n",
      "Df Residuals:                     135   BIC:                            -240.4\n",
      "Df Model:                           7                                         \n",
      "Covariance Type:            nonrobust                                         \n",
      "=========================================================================================\n",
      "                            coef    std err          t      P>|t|      [0.025      0.975]\n",
      "-----------------------------------------------------------------------------------------\n",
      "const                    -0.2186      0.024     -9.000      0.000      -0.267      -0.171\n",
      "carwidth                  0.8837      0.054     16.337      0.000       0.777       0.991\n",
      "boreratio                 0.0266      0.049      0.540      0.590      -0.071       0.124\n",
      "enginetype_l             -0.0725      0.034     -2.162      0.032      -0.139      -0.006\n",
      "cylindernumber_twelve     0.2952      0.096      3.079      0.003       0.106       0.485\n",
      "enginelocation_rear       0.5967      0.116      5.124      0.000       0.366       0.827\n",
      "CarName_bmw               0.3336      0.040      8.433      0.000       0.255       0.412\n",
      "CarName_porsche           0.0522      0.071      0.738      0.462      -0.088       0.192\n",
      "==============================================================================\n",
      "Omnibus:                       37.471   Durbin-Watson:                   2.052\n",
      "Prob(Omnibus):                  0.000   Jarque-Bera (JB):               81.021\n",
      "Skew:                           1.113   Prob(JB):                     2.55e-18\n",
      "Kurtosis:                       5.940   Cond. No.                         19.6\n",
      "==============================================================================\n",
      "\n",
      "Warnings:\n",
      "[1] Standard Errors assume that the covariance matrix of the errors is correctly specified.\n"
     ]
    }
   ],
   "source": [
    "X_train_new = build_model(X_train_new,y_train)"
   ]
  },
  {
   "cell_type": "code",
   "execution_count": 75,
   "metadata": {},
   "outputs": [],
   "source": [
    "#drop higher p-value\n",
    "X_train_new = X_train_new.drop([\"boreratio\"], axis = 1)"
   ]
  },
  {
   "cell_type": "markdown",
   "metadata": {},
   "source": [
    "#### Model 15"
   ]
  },
  {
   "cell_type": "code",
   "execution_count": 76,
   "metadata": {},
   "outputs": [
    {
     "name": "stdout",
     "output_type": "stream",
     "text": [
      "                            OLS Regression Results                            \n",
      "==============================================================================\n",
      "Dep. Variable:                  price   R-squared:                       0.821\n",
      "Model:                            OLS   Adj. R-squared:                  0.813\n",
      "Method:                 Least Squares   F-statistic:                     103.8\n",
      "Date:                Mon, 26 Aug 2019   Prob (F-statistic):           2.75e-48\n",
      "Time:                        11:51:14   Log-Likelihood:                 139.88\n",
      "No. Observations:                 143   AIC:                            -265.8\n",
      "Df Residuals:                     136   BIC:                            -245.0\n",
      "Df Model:                           6                                         \n",
      "Covariance Type:            nonrobust                                         \n",
      "=========================================================================================\n",
      "                            coef    std err          t      P>|t|      [0.025      0.975]\n",
      "-----------------------------------------------------------------------------------------\n",
      "const                    -0.2130      0.022     -9.752      0.000      -0.256      -0.170\n",
      "carwidth                  0.8990      0.046     19.599      0.000       0.808       0.990\n",
      "enginetype_l             -0.0696      0.033     -2.108      0.037      -0.135      -0.004\n",
      "cylindernumber_twelve     0.2945      0.096      3.080      0.003       0.105       0.484\n",
      "enginelocation_rear       0.5993      0.116      5.164      0.000       0.370       0.829\n",
      "CarName_bmw               0.3359      0.039      8.562      0.000       0.258       0.413\n",
      "CarName_porsche           0.0603      0.069      0.874      0.383      -0.076       0.197\n",
      "==============================================================================\n",
      "Omnibus:                       38.046   Durbin-Watson:                   2.062\n",
      "Prob(Omnibus):                  0.000   Jarque-Bera (JB):               84.505\n",
      "Skew:                           1.118   Prob(JB):                     4.47e-19\n",
      "Kurtosis:                       6.031   Cond. No.                         17.8\n",
      "==============================================================================\n",
      "\n",
      "Warnings:\n",
      "[1] Standard Errors assume that the covariance matrix of the errors is correctly specified.\n"
     ]
    }
   ],
   "source": [
    "X_train_new = build_model(X_train_new,y_train)"
   ]
  },
  {
   "cell_type": "code",
   "execution_count": 77,
   "metadata": {},
   "outputs": [],
   "source": [
    "#drop high p-value\n",
    "X_train_new = X_train_new.drop([\"CarName_porsche\"], axis = 1)"
   ]
  },
  {
   "cell_type": "markdown",
   "metadata": {},
   "source": [
    "#### Model 16"
   ]
  },
  {
   "cell_type": "code",
   "execution_count": 78,
   "metadata": {},
   "outputs": [
    {
     "name": "stdout",
     "output_type": "stream",
     "text": [
      "                            OLS Regression Results                            \n",
      "==============================================================================\n",
      "Dep. Variable:                  price   R-squared:                       0.820\n",
      "Model:                            OLS   Adj. R-squared:                  0.813\n",
      "Method:                 Least Squares   F-statistic:                     124.7\n",
      "Date:                Mon, 26 Aug 2019   Prob (F-statistic):           3.41e-49\n",
      "Time:                        11:51:14   Log-Likelihood:                 139.48\n",
      "No. Observations:                 143   AIC:                            -267.0\n",
      "Df Residuals:                     137   BIC:                            -249.2\n",
      "Df Model:                           5                                         \n",
      "Covariance Type:            nonrobust                                         \n",
      "=========================================================================================\n",
      "                            coef    std err          t      P>|t|      [0.025      0.975]\n",
      "-----------------------------------------------------------------------------------------\n",
      "const                    -0.2167      0.021    -10.126      0.000      -0.259      -0.174\n",
      "carwidth                  0.9095      0.044     20.564      0.000       0.822       0.997\n",
      "enginetype_l             -0.0722      0.033     -2.197      0.030      -0.137      -0.007\n",
      "cylindernumber_twelve     0.2892      0.095      3.033      0.003       0.101       0.478\n",
      "enginelocation_rear       0.6591      0.094      7.041      0.000       0.474       0.844\n",
      "CarName_bmw               0.3340      0.039      8.535      0.000       0.257       0.411\n",
      "==============================================================================\n",
      "Omnibus:                       35.694   Durbin-Watson:                   2.065\n",
      "Prob(Omnibus):                  0.000   Jarque-Bera (JB):               77.264\n",
      "Skew:                           1.058   Prob(JB):                     1.67e-17\n",
      "Kurtosis:                       5.914   Cond. No.                         13.6\n",
      "==============================================================================\n",
      "\n",
      "Warnings:\n",
      "[1] Standard Errors assume that the covariance matrix of the errors is correctly specified.\n"
     ]
    }
   ],
   "source": [
    "X_train_new = build_model(X_train_new,y_train)"
   ]
  },
  {
   "cell_type": "code",
   "execution_count": 79,
   "metadata": {},
   "outputs": [
    {
     "data": {
      "text/html": [
       "<div>\n",
       "<style scoped>\n",
       "    .dataframe tbody tr th:only-of-type {\n",
       "        vertical-align: middle;\n",
       "    }\n",
       "\n",
       "    .dataframe tbody tr th {\n",
       "        vertical-align: top;\n",
       "    }\n",
       "\n",
       "    .dataframe thead th {\n",
       "        text-align: right;\n",
       "    }\n",
       "</style>\n",
       "<table border=\"1\" class=\"dataframe\">\n",
       "  <thead>\n",
       "    <tr style=\"text-align: right;\">\n",
       "      <th></th>\n",
       "      <th>Features</th>\n",
       "      <th>VIF</th>\n",
       "    </tr>\n",
       "  </thead>\n",
       "  <tbody>\n",
       "    <tr>\n",
       "      <th>0</th>\n",
       "      <td>const</td>\n",
       "      <td>7.54</td>\n",
       "    </tr>\n",
       "    <tr>\n",
       "      <th>1</th>\n",
       "      <td>carwidth</td>\n",
       "      <td>1.09</td>\n",
       "    </tr>\n",
       "    <tr>\n",
       "      <th>2</th>\n",
       "      <td>enginetype_l</td>\n",
       "      <td>1.05</td>\n",
       "    </tr>\n",
       "    <tr>\n",
       "      <th>3</th>\n",
       "      <td>cylindernumber_twelve</td>\n",
       "      <td>1.04</td>\n",
       "    </tr>\n",
       "    <tr>\n",
       "      <th>5</th>\n",
       "      <td>CarName_bmw</td>\n",
       "      <td>1.01</td>\n",
       "    </tr>\n",
       "    <tr>\n",
       "      <th>4</th>\n",
       "      <td>enginelocation_rear</td>\n",
       "      <td>1.00</td>\n",
       "    </tr>\n",
       "  </tbody>\n",
       "</table>\n",
       "</div>"
      ],
      "text/plain": [
       "                Features   VIF\n",
       "0                  const  7.54\n",
       "1               carwidth  1.09\n",
       "2           enginetype_l  1.05\n",
       "3  cylindernumber_twelve  1.04\n",
       "5            CarName_bmw  1.01\n",
       "4    enginelocation_rear  1.00"
      ]
     },
     "execution_count": 79,
     "metadata": {},
     "output_type": "execute_result"
    }
   ],
   "source": [
    "#check for VIF as p-value is less than 0.05\n",
    "VIF(X_train_new)"
   ]
  },
  {
   "cell_type": "markdown",
   "metadata": {},
   "source": [
    "- As we can see that now VIF of all remaining variables is less than 5 and p-value is less than 0.05.\n",
    "- Now we can proceed for Residual analysis and make predictions."
   ]
  },
  {
   "cell_type": "markdown",
   "metadata": {},
   "source": [
    "### Residual Analysis"
   ]
  },
  {
   "cell_type": "code",
   "execution_count": 80,
   "metadata": {},
   "outputs": [],
   "source": [
    "# making prediction on train data set.\n",
    "lm = sm.OLS(y_train,X_train_new).fit()\n",
    "\n",
    "y_train_price = lm.predict(X_train_new)#making prediction using predict keyword"
   ]
  },
  {
   "cell_type": "code",
   "execution_count": 81,
   "metadata": {},
   "outputs": [
    {
     "data": {
      "image/png": "[encoded data removed]",
      "text/plain": [
       "<Figure size 432x288 with 1 Axes>"
      ]
     },
     "metadata": {
      "needs_background": "light"
     },
     "output_type": "display_data"
    }
   ],
   "source": [
    "# Plotting y_train and y_train_price to understand the spread.\n",
    "fig = plt.figure()\n",
    "plt.scatter(y_train,y_train_price)              \n",
    "plt.xlabel('y_train', fontsize=18)                          # X-label\n",
    "plt.ylabel('y_train_price', fontsize=16) # y-label\n",
    "plt.show()"
   ]
  },
  {
   "cell_type": "markdown",
   "metadata": {},
   "source": [
    "##### Error Terms Plot"
   ]
  },
  {
   "cell_type": "code",
   "execution_count": 82,
   "metadata": {},
   "outputs": [
    {
     "data": {
      "image/png": "[encoded data removed]",
      "text/plain": [
       "<Figure size 432x288 with 1 Axes>"
      ]
     },
     "metadata": {
      "needs_background": "light"
     },
     "output_type": "display_data"
    }
   ],
   "source": [
    "# Plot the histogram of the error terms\n",
    "fig = plt.figure()\n",
    "sns.distplot((y_train - y_train_price), bins = 20)\n",
    "fig.suptitle('Error Terms', fontsize = 20)  # Plot heading \n",
    "plt.xlabel('Errors', fontsize = 18)   \n",
    "plt.show()"
   ]
  },
  {
   "cell_type": "markdown",
   "metadata": {},
   "source": [
    "- This plot clearly shows that residuals are normally distributed with zero mean."
   ]
  },
  {
   "cell_type": "markdown",
   "metadata": {},
   "source": [
    "### Prediction on test dataset"
   ]
  },
  {
   "cell_type": "code",
   "execution_count": 83,
   "metadata": {},
   "outputs": [],
   "source": [
    "# taking variables for scalling for test data\n",
    "num_var = ['fueltype','aspiration','doornumber','wheelbase','carlength','carwidth','carheight','curbweight','enginesize','boreratio','stroke'\n",
    "          ,'horsepower','price']\n"
   ]
  },
  {
   "cell_type": "markdown",
   "metadata": {},
   "source": [
    "#### Scaling on test data"
   ]
  },
  {
   "cell_type": "code",
   "execution_count": 84,
   "metadata": {},
   "outputs": [],
   "source": [
    "# Scaling on test data using scaler transformation\n",
    "df_test[num_var]= scaler.transform(df_test[num_var])"
   ]
  },
  {
   "cell_type": "code",
   "execution_count": 85,
   "metadata": {},
   "outputs": [
    {
     "data": {
      "text/html": [
       "<div>\n",
       "<style scoped>\n",
       "    .dataframe tbody tr th:only-of-type {\n",
       "        vertical-align: middle;\n",
       "    }\n",
       "\n",
       "    .dataframe tbody tr th {\n",
       "        vertical-align: top;\n",
       "    }\n",
       "\n",
       "    .dataframe thead th {\n",
       "        text-align: right;\n",
       "    }\n",
       "</style>\n",
       "<table border=\"1\" class=\"dataframe\">\n",
       "  <thead>\n",
       "    <tr style=\"text-align: right;\">\n",
       "      <th></th>\n",
       "      <th>fueltype</th>\n",
       "      <th>aspiration</th>\n",
       "      <th>doornumber</th>\n",
       "      <th>wheelbase</th>\n",
       "      <th>carlength</th>\n",
       "      <th>carwidth</th>\n",
       "      <th>carheight</th>\n",
       "      <th>curbweight</th>\n",
       "      <th>enginesize</th>\n",
       "      <th>boreratio</th>\n",
       "      <th>stroke</th>\n",
       "      <th>horsepower</th>\n",
       "      <th>price</th>\n",
       "      <th>carbody_hardtop</th>\n",
       "      <th>carbody_hatchback</th>\n",
       "      <th>carbody_sedan</th>\n",
       "      <th>carbody_wagon</th>\n",
       "      <th>drivewheel_fwd</th>\n",
       "      <th>drivewheel_rwd</th>\n",
       "      <th>enginetype_dohcv</th>\n",
       "      <th>enginetype_l</th>\n",
       "      <th>enginetype_ohc</th>\n",
       "      <th>enginetype_ohcf</th>\n",
       "      <th>enginetype_ohcv</th>\n",
       "      <th>enginetype_rotor</th>\n",
       "      <th>cylindernumber_five</th>\n",
       "      <th>cylindernumber_four</th>\n",
       "      <th>cylindernumber_six</th>\n",
       "      <th>cylindernumber_three</th>\n",
       "      <th>cylindernumber_twelve</th>\n",
       "      <th>cylindernumber_two</th>\n",
       "      <th>enginelocation_rear</th>\n",
       "      <th>CarName_audi</th>\n",
       "      <th>CarName_bmw</th>\n",
       "      <th>CarName_buick</th>\n",
       "      <th>CarName_chevrolet</th>\n",
       "      <th>CarName_dodge</th>\n",
       "      <th>CarName_honda</th>\n",
       "      <th>CarName_isuzu</th>\n",
       "      <th>CarName_jaguar</th>\n",
       "      <th>CarName_mazda</th>\n",
       "      <th>CarName_mercury</th>\n",
       "      <th>CarName_mitsubishi</th>\n",
       "      <th>CarName_nissan</th>\n",
       "      <th>CarName_peugeot</th>\n",
       "      <th>CarName_plymouth</th>\n",
       "      <th>CarName_porsche</th>\n",
       "      <th>CarName_renault</th>\n",
       "      <th>CarName_saab</th>\n",
       "      <th>CarName_subaru</th>\n",
       "      <th>CarName_toyota</th>\n",
       "      <th>CarName_volkswagen</th>\n",
       "      <th>CarName_volvo</th>\n",
       "    </tr>\n",
       "  </thead>\n",
       "  <tbody>\n",
       "    <tr>\n",
       "      <th>160</th>\n",
       "      <td>1.0</td>\n",
       "      <td>0.0</td>\n",
       "      <td>0.0</td>\n",
       "      <td>0.313793</td>\n",
       "      <td>0.409756</td>\n",
       "      <td>0.341667</td>\n",
       "      <td>0.460177</td>\n",
       "      <td>0.235066</td>\n",
       "      <td>0.139623</td>\n",
       "      <td>0.404762</td>\n",
       "      <td>0.424242</td>\n",
       "      <td>0.091667</td>\n",
       "      <td>0.072382</td>\n",
       "      <td>0</td>\n",
       "      <td>0</td>\n",
       "      <td>1</td>\n",
       "      <td>0</td>\n",
       "      <td>1</td>\n",
       "      <td>0</td>\n",
       "      <td>0</td>\n",
       "      <td>0</td>\n",
       "      <td>1</td>\n",
       "      <td>0</td>\n",
       "      <td>0</td>\n",
       "      <td>0</td>\n",
       "      <td>0</td>\n",
       "      <td>1</td>\n",
       "      <td>0</td>\n",
       "      <td>0</td>\n",
       "      <td>0</td>\n",
       "      <td>0</td>\n",
       "      <td>0</td>\n",
       "      <td>0</td>\n",
       "      <td>0</td>\n",
       "      <td>0</td>\n",
       "      <td>0</td>\n",
       "      <td>0</td>\n",
       "      <td>0</td>\n",
       "      <td>0</td>\n",
       "      <td>0</td>\n",
       "      <td>0</td>\n",
       "      <td>0</td>\n",
       "      <td>0</td>\n",
       "      <td>0</td>\n",
       "      <td>0</td>\n",
       "      <td>0</td>\n",
       "      <td>0</td>\n",
       "      <td>0</td>\n",
       "      <td>0</td>\n",
       "      <td>0</td>\n",
       "      <td>1</td>\n",
       "      <td>0</td>\n",
       "      <td>0</td>\n",
       "    </tr>\n",
       "    <tr>\n",
       "      <th>186</th>\n",
       "      <td>1.0</td>\n",
       "      <td>0.0</td>\n",
       "      <td>0.0</td>\n",
       "      <td>0.368966</td>\n",
       "      <td>0.497561</td>\n",
       "      <td>0.433333</td>\n",
       "      <td>0.699115</td>\n",
       "      <td>0.305275</td>\n",
       "      <td>0.181132</td>\n",
       "      <td>0.404762</td>\n",
       "      <td>0.611111</td>\n",
       "      <td>0.154167</td>\n",
       "      <td>0.093295</td>\n",
       "      <td>0</td>\n",
       "      <td>0</td>\n",
       "      <td>1</td>\n",
       "      <td>0</td>\n",
       "      <td>1</td>\n",
       "      <td>0</td>\n",
       "      <td>0</td>\n",
       "      <td>0</td>\n",
       "      <td>1</td>\n",
       "      <td>0</td>\n",
       "      <td>0</td>\n",
       "      <td>0</td>\n",
       "      <td>0</td>\n",
       "      <td>1</td>\n",
       "      <td>0</td>\n",
       "      <td>0</td>\n",
       "      <td>0</td>\n",
       "      <td>0</td>\n",
       "      <td>0</td>\n",
       "      <td>0</td>\n",
       "      <td>0</td>\n",
       "      <td>0</td>\n",
       "      <td>0</td>\n",
       "      <td>0</td>\n",
       "      <td>0</td>\n",
       "      <td>0</td>\n",
       "      <td>0</td>\n",
       "      <td>0</td>\n",
       "      <td>0</td>\n",
       "      <td>0</td>\n",
       "      <td>0</td>\n",
       "      <td>0</td>\n",
       "      <td>0</td>\n",
       "      <td>0</td>\n",
       "      <td>0</td>\n",
       "      <td>0</td>\n",
       "      <td>0</td>\n",
       "      <td>0</td>\n",
       "      <td>1</td>\n",
       "      <td>0</td>\n",
       "    </tr>\n",
       "    <tr>\n",
       "      <th>59</th>\n",
       "      <td>1.0</td>\n",
       "      <td>0.0</td>\n",
       "      <td>1.0</td>\n",
       "      <td>0.420690</td>\n",
       "      <td>0.596748</td>\n",
       "      <td>0.516667</td>\n",
       "      <td>0.522124</td>\n",
       "      <td>0.347944</td>\n",
       "      <td>0.230189</td>\n",
       "      <td>0.563492</td>\n",
       "      <td>0.606061</td>\n",
       "      <td>0.150000</td>\n",
       "      <td>0.102964</td>\n",
       "      <td>0</td>\n",
       "      <td>1</td>\n",
       "      <td>0</td>\n",
       "      <td>0</td>\n",
       "      <td>1</td>\n",
       "      <td>0</td>\n",
       "      <td>0</td>\n",
       "      <td>0</td>\n",
       "      <td>1</td>\n",
       "      <td>0</td>\n",
       "      <td>0</td>\n",
       "      <td>0</td>\n",
       "      <td>0</td>\n",
       "      <td>1</td>\n",
       "      <td>0</td>\n",
       "      <td>0</td>\n",
       "      <td>0</td>\n",
       "      <td>0</td>\n",
       "      <td>0</td>\n",
       "      <td>0</td>\n",
       "      <td>0</td>\n",
       "      <td>0</td>\n",
       "      <td>0</td>\n",
       "      <td>0</td>\n",
       "      <td>0</td>\n",
       "      <td>0</td>\n",
       "      <td>0</td>\n",
       "      <td>1</td>\n",
       "      <td>0</td>\n",
       "      <td>0</td>\n",
       "      <td>0</td>\n",
       "      <td>0</td>\n",
       "      <td>0</td>\n",
       "      <td>0</td>\n",
       "      <td>0</td>\n",
       "      <td>0</td>\n",
       "      <td>0</td>\n",
       "      <td>0</td>\n",
       "      <td>0</td>\n",
       "      <td>0</td>\n",
       "    </tr>\n",
       "    <tr>\n",
       "      <th>165</th>\n",
       "      <td>1.0</td>\n",
       "      <td>0.0</td>\n",
       "      <td>1.0</td>\n",
       "      <td>0.272414</td>\n",
       "      <td>0.448780</td>\n",
       "      <td>0.308333</td>\n",
       "      <td>0.424779</td>\n",
       "      <td>0.301396</td>\n",
       "      <td>0.139623</td>\n",
       "      <td>0.444444</td>\n",
       "      <td>0.449495</td>\n",
       "      <td>0.266667</td>\n",
       "      <td>0.115479</td>\n",
       "      <td>0</td>\n",
       "      <td>0</td>\n",
       "      <td>1</td>\n",
       "      <td>0</td>\n",
       "      <td>0</td>\n",
       "      <td>1</td>\n",
       "      <td>0</td>\n",
       "      <td>0</td>\n",
       "      <td>0</td>\n",
       "      <td>0</td>\n",
       "      <td>0</td>\n",
       "      <td>0</td>\n",
       "      <td>0</td>\n",
       "      <td>1</td>\n",
       "      <td>0</td>\n",
       "      <td>0</td>\n",
       "      <td>0</td>\n",
       "      <td>0</td>\n",
       "      <td>0</td>\n",
       "      <td>0</td>\n",
       "      <td>0</td>\n",
       "      <td>0</td>\n",
       "      <td>0</td>\n",
       "      <td>0</td>\n",
       "      <td>0</td>\n",
       "      <td>0</td>\n",
       "      <td>0</td>\n",
       "      <td>0</td>\n",
       "      <td>0</td>\n",
       "      <td>0</td>\n",
       "      <td>0</td>\n",
       "      <td>0</td>\n",
       "      <td>0</td>\n",
       "      <td>0</td>\n",
       "      <td>0</td>\n",
       "      <td>0</td>\n",
       "      <td>0</td>\n",
       "      <td>1</td>\n",
       "      <td>0</td>\n",
       "      <td>0</td>\n",
       "    </tr>\n",
       "    <tr>\n",
       "      <th>140</th>\n",
       "      <td>1.0</td>\n",
       "      <td>0.0</td>\n",
       "      <td>1.0</td>\n",
       "      <td>0.231034</td>\n",
       "      <td>0.263415</td>\n",
       "      <td>0.291667</td>\n",
       "      <td>0.699115</td>\n",
       "      <td>0.291699</td>\n",
       "      <td>0.177358</td>\n",
       "      <td>0.746032</td>\n",
       "      <td>0.227273</td>\n",
       "      <td>0.104167</td>\n",
       "      <td>0.068652</td>\n",
       "      <td>0</td>\n",
       "      <td>1</td>\n",
       "      <td>0</td>\n",
       "      <td>0</td>\n",
       "      <td>0</td>\n",
       "      <td>0</td>\n",
       "      <td>0</td>\n",
       "      <td>0</td>\n",
       "      <td>0</td>\n",
       "      <td>1</td>\n",
       "      <td>0</td>\n",
       "      <td>0</td>\n",
       "      <td>0</td>\n",
       "      <td>1</td>\n",
       "      <td>0</td>\n",
       "      <td>0</td>\n",
       "      <td>0</td>\n",
       "      <td>0</td>\n",
       "      <td>0</td>\n",
       "      <td>0</td>\n",
       "      <td>0</td>\n",
       "      <td>0</td>\n",
       "      <td>0</td>\n",
       "      <td>0</td>\n",
       "      <td>0</td>\n",
       "      <td>0</td>\n",
       "      <td>0</td>\n",
       "      <td>0</td>\n",
       "      <td>0</td>\n",
       "      <td>0</td>\n",
       "      <td>0</td>\n",
       "      <td>0</td>\n",
       "      <td>0</td>\n",
       "      <td>0</td>\n",
       "      <td>0</td>\n",
       "      <td>0</td>\n",
       "      <td>1</td>\n",
       "      <td>0</td>\n",
       "      <td>0</td>\n",
       "      <td>0</td>\n",
       "    </tr>\n",
       "  </tbody>\n",
       "</table>\n",
       "</div>"
      ],
      "text/plain": [
       "     fueltype  aspiration  doornumber  wheelbase  carlength  carwidth  \\\n",
       "160       1.0         0.0         0.0   0.313793   0.409756  0.341667   \n",
       "186       1.0         0.0         0.0   0.368966   0.497561  0.433333   \n",
       "59        1.0         0.0         1.0   0.420690   0.596748  0.516667   \n",
       "165       1.0         0.0         1.0   0.272414   0.448780  0.308333   \n",
       "140       1.0         0.0         1.0   0.231034   0.263415  0.291667   \n",
       "\n",
       "     carheight  curbweight  enginesize  boreratio    stroke  horsepower  \\\n",
       "160   0.460177    0.235066    0.139623   0.404762  0.424242    0.091667   \n",
       "186   0.699115    0.305275    0.181132   0.404762  0.611111    0.154167   \n",
       "59    0.522124    0.347944    0.230189   0.563492  0.606061    0.150000   \n",
       "165   0.424779    0.301396    0.139623   0.444444  0.449495    0.266667   \n",
       "140   0.699115    0.291699    0.177358   0.746032  0.227273    0.104167   \n",
       "\n",
       "        price  carbody_hardtop  carbody_hatchback  carbody_sedan  \\\n",
       "160  0.072382                0                  0              1   \n",
       "186  0.093295                0                  0              1   \n",
       "59   0.102964                0                  1              0   \n",
       "165  0.115479                0                  0              1   \n",
       "140  0.068652                0                  1              0   \n",
       "\n",
       "     carbody_wagon  drivewheel_fwd  drivewheel_rwd  enginetype_dohcv  \\\n",
       "160              0               1               0                 0   \n",
       "186              0               1               0                 0   \n",
       "59               0               1               0                 0   \n",
       "165              0               0               1                 0   \n",
       "140              0               0               0                 0   \n",
       "\n",
       "     enginetype_l  enginetype_ohc  enginetype_ohcf  enginetype_ohcv  \\\n",
       "160             0               1                0                0   \n",
       "186             0               1                0                0   \n",
       "59              0               1                0                0   \n",
       "165             0               0                0                0   \n",
       "140             0               0                1                0   \n",
       "\n",
       "     enginetype_rotor  cylindernumber_five  cylindernumber_four  \\\n",
       "160                 0                    0                    1   \n",
       "186                 0                    0                    1   \n",
       "59                  0                    0                    1   \n",
       "165                 0                    0                    1   \n",
       "140                 0                    0                    1   \n",
       "\n",
       "     cylindernumber_six  cylindernumber_three  cylindernumber_twelve  \\\n",
       "160                   0                     0                      0   \n",
       "186                   0                     0                      0   \n",
       "59                    0                     0                      0   \n",
       "165                   0                     0                      0   \n",
       "140                   0                     0                      0   \n",
       "\n",
       "     cylindernumber_two  enginelocation_rear  CarName_audi  CarName_bmw  \\\n",
       "160                   0                    0             0            0   \n",
       "186                   0                    0             0            0   \n",
       "59                    0                    0             0            0   \n",
       "165                   0                    0             0            0   \n",
       "140                   0                    0             0            0   \n",
       "\n",
       "     CarName_buick  CarName_chevrolet  CarName_dodge  CarName_honda  \\\n",
       "160              0                  0              0              0   \n",
       "186              0                  0              0              0   \n",
       "59               0                  0              0              0   \n",
       "165              0                  0              0              0   \n",
       "140              0                  0              0              0   \n",
       "\n",
       "     CarName_isuzu  CarName_jaguar  CarName_mazda  CarName_mercury  \\\n",
       "160              0               0              0                0   \n",
       "186              0               0              0                0   \n",
       "59               0               0              1                0   \n",
       "165              0               0              0                0   \n",
       "140              0               0              0                0   \n",
       "\n",
       "     CarName_mitsubishi  CarName_nissan  CarName_peugeot  CarName_plymouth  \\\n",
       "160                   0               0                0                 0   \n",
       "186                   0               0                0                 0   \n",
       "59                    0               0                0                 0   \n",
       "165                   0               0                0                 0   \n",
       "140                   0               0                0                 0   \n",
       "\n",
       "     CarName_porsche  CarName_renault  CarName_saab  CarName_subaru  \\\n",
       "160                0                0             0               0   \n",
       "186                0                0             0               0   \n",
       "59                 0                0             0               0   \n",
       "165                0                0             0               0   \n",
       "140                0                0             0               1   \n",
       "\n",
       "     CarName_toyota  CarName_volkswagen  CarName_volvo  \n",
       "160               1                   0              0  \n",
       "186               0                   1              0  \n",
       "59                0                   0              0  \n",
       "165               1                   0              0  \n",
       "140               0                   0              0  "
      ]
     },
     "execution_count": 85,
     "metadata": {},
     "output_type": "execute_result"
    }
   ],
   "source": [
    "df_test.head()"
   ]
  },
  {
   "cell_type": "code",
   "execution_count": 86,
   "metadata": {},
   "outputs": [
    {
     "data": {
      "text/plain": [
       "(62, 53)"
      ]
     },
     "execution_count": 86,
     "metadata": {},
     "output_type": "execute_result"
    }
   ],
   "source": [
    "df_test.shape"
   ]
  },
  {
   "cell_type": "markdown",
   "metadata": {},
   "source": [
    "#### Dividing test set into X and y"
   ]
  },
  {
   "cell_type": "code",
   "execution_count": 87,
   "metadata": {},
   "outputs": [],
   "source": [
    "#Dividing into X and y\n",
    "y_test = df_test.pop('price')\n",
    "X_test = df_test"
   ]
  },
  {
   "cell_type": "markdown",
   "metadata": {},
   "source": [
    "#### Creating new dataframe and adding constant on test data"
   ]
  },
  {
   "cell_type": "code",
   "execution_count": 88,
   "metadata": {},
   "outputs": [],
   "source": [
    "# Now let's use our model to make predictions.\n",
    "X_train_new = X_train_new.drop('const',axis=1)\n",
    "# Creating X_test_new dataframe by dropping variables from X_test\n",
    "X_test_new = X_test[X_train_new.columns]\n",
    "\n",
    "# Adding a constant variable \n",
    "X_test_new = sm.add_constant(X_test_new)"
   ]
  },
  {
   "cell_type": "markdown",
   "metadata": {},
   "source": [
    "##### Making prediction on test data"
   ]
  },
  {
   "cell_type": "code",
   "execution_count": 89,
   "metadata": {},
   "outputs": [],
   "source": [
    "# Making predictions\n",
    "y_pred = lm.predict(X_test_new)"
   ]
  },
  {
   "cell_type": "markdown",
   "metadata": {},
   "source": [
    "#### Checking R-squared on test data set"
   ]
  },
  {
   "cell_type": "code",
   "execution_count": 90,
   "metadata": {},
   "outputs": [
    {
     "data": {
      "text/plain": [
       "0.7903981456250186"
      ]
     },
     "execution_count": 90,
     "metadata": {},
     "output_type": "execute_result"
    }
   ],
   "source": [
    "from sklearn.metrics import r2_score \n",
    "r2_score(y_test, y_pred)"
   ]
  },
  {
   "cell_type": "markdown",
   "metadata": {},
   "source": [
    "#### Checking mean-square-error"
   ]
  },
  {
   "cell_type": "code",
   "execution_count": 91,
   "metadata": {},
   "outputs": [
    {
     "name": "stdout",
     "output_type": "stream",
     "text": [
      "RMSE : 0.10584351253392157\n"
     ]
    }
   ],
   "source": [
    "from sklearn import metrics\n",
    "print('RMSE :', np.sqrt(metrics.mean_squared_error(y_test, y_pred)))"
   ]
  },
  {
   "cell_type": "markdown",
   "metadata": {},
   "source": [
    "#### y_test vs y_pred scatter plot"
   ]
  },
  {
   "cell_type": "code",
   "execution_count": 92,
   "metadata": {},
   "outputs": [
    {
     "data": {
      "image/png": "[encoded data removed]",
      "text/plain": [
       "<Figure size 432x288 with 1 Axes>"
      ]
     },
     "metadata": {
      "needs_background": "light"
     },
     "output_type": "display_data"
    }
   ],
   "source": [
    "# Plotting y_test and y_pred to understand the spread.\n",
    "fig = plt.figure()\n",
    "plt.scatter(y_test,y_pred)\n",
    "fig.suptitle('y_test vs y_pred', fontsize=20)              # Plot heading \n",
    "plt.xlabel('y_test', fontsize=18)                          # X-label\n",
    "plt.ylabel('y_pred', fontsize=16) \n",
    "plt.show()"
   ]
  },
  {
   "cell_type": "markdown",
   "metadata": {},
   "source": [
    "### Model Evaluation"
   ]
  },
  {
   "cell_type": "code",
   "execution_count": 93,
   "metadata": {},
   "outputs": [
    {
     "data": {
      "image/png": "[encoded data removed]",
      "text/plain": [
       "<Figure size 1800x720 with 3 Axes>"
      ]
     },
     "metadata": {
      "needs_background": "light"
     },
     "output_type": "display_data"
    }
   ],
   "source": [
    "c = [i for i in range(1,63,1)] # generating index \n",
    "plt.figure(1,figsize=(25,10)) \n",
    "plt.subplot(1,3,1)\n",
    "plt.plot(c,y_test, color=\"blue\", linewidth=2.5, linestyle=\"-\") #Plotting Actual\n",
    "plt.plot(c,y_pred, color=\"red\",  linewidth=2.5, linestyle=\"-\") #Plotting predicted\n",
    "plt.title('Actual and Predicted', fontsize=20)              # Plot heading \n",
    "plt.xlabel('Index', fontsize=18)                               # X-label\n",
    "plt.ylabel('Price', fontsize=18)                       # Y-label\n",
    "\n",
    "plt.subplot(1,3,2)\n",
    "plt.plot(c,y_test-y_pred, color=\"blue\", linewidth=2.5, linestyle=\"-\")\n",
    "plt.title('Error Terms', fontsize=18)              # Plot heading \n",
    "plt.xlabel('Index', fontsize=18)                      # X-label\n",
    "plt.ylabel('ytest-ypred', fontsize=18)\n",
    "\n",
    "plt.subplot(1,3,3)\n",
    "sns.distplot((y_test-y_pred),bins=50)\n",
    "plt.title('Error Terms', fontsize=18)                  # Plot heading \n",
    "plt.xlabel('y_test-y_pred', fontsize=18)                  # X-label\n",
    "plt.ylabel('Index', fontsize=16)    \n",
    "plt.show()"
   ]
  },
  {
   "cell_type": "markdown",
   "metadata": {},
   "source": [
    "### The top features contributed in 'Carprice'\n",
    "- carwidth\n",
    "- enginetype_l\n",
    "- cylindernumber_twelve\n",
    "- CarName_bmw\n",
    "- enginelocation_rear"
   ]
  },
  {
   "cell_type": "markdown",
   "metadata": {},
   "source": [
    "#### Conclusion overall-fit model :\n",
    "\n",
    "- R-sqaured and Adjusted R-squared is 0.820 and 0.813 - decent variance explained.\n",
    "- F-stats and Prob(F-stats) is 124.7 and 3.41e-49 < 0.05 - Model fit is significant.\n",
    "- p-values for all the coefficients seem to be less than the significance level of 0.05. i.e all the predictors are  statistically significant.\n",
    "- R^2 on test set is 79% which is in range of 5% of R^2 on train set 82% which is significantly good. This indicates stability means that what the model learned in training set it is able to generalised in unseen test set."
   ]
  },
  {
   "cell_type": "code",
   "execution_count": null,
   "metadata": {},
   "outputs": [],
   "source": []
  }
 ],
 "metadata": {
  "kernelspec": {
   "display_name": "Python 3",
   "language": "python",
   "name": "python3"
  },
  "language_info": {
   "codemirror_mode": {
    "name": "ipython",
    "version": 3
   },
   "file_extension": ".py",
   "mimetype": "text/x-python",
   "name": "python",
   "nbconvert_exporter": "python",
   "pygments_lexer": "ipython3",
   "version": "3.7.3"
  }
 },
 "nbformat": 4,
 "nbformat_minor": 2
}
